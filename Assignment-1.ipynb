{
 "cells": [
  {
   "cell_type": "markdown",
   "id": "0ee0208e-5c7a-4e2b-b766-5d69afde2814",
   "metadata": {},
   "source": [
    "Q1. Create one variable containing following type of data:\n",
    "\n",
    "(i) string\n",
    "\n",
    "\n",
    "(ii) list\n",
    "\n",
    "\n",
    "(iii) float\n",
    "\n",
    "\n",
    "(iv) tuple\n",
    "\n"
   ]
  },
  {
   "cell_type": "code",
   "execution_count": 35,
   "id": "36306f40-dfb2-4083-9681-458f252bdb6c",
   "metadata": {},
   "outputs": [
    {
     "name": "stdout",
     "output_type": "stream",
     "text": [
      "Priya, type - <class 'str'>\n",
      "[1, 2, 3], type - <class 'list'>\n",
      "5.03, type - <class 'float'>\n",
      "(1, 2, 3), type - <class 'tuple'>\n",
      "--------------------------------------------------\n",
      "['Priya', [1, 2, 3], 5.0, (15, 20)]\n",
      "Priya, type - <class 'str'>\n",
      "[1, 2, 3], type - <class 'list'>\n",
      "5.0, type - <class 'float'>\n",
      "(15, 20), type - <class 'tuple'>\n"
     ]
    }
   ],
   "source": [
    "# Answer(Q1)\n",
    "# (i) string\n",
    "name = 'Priya'\n",
    "print(f\"{name}, type - {type(name)}\")\n",
    "# (ii) list\n",
    "list = [1,2,3]\n",
    "print(f\"{list}, type - {type(list)}\")\n",
    "# (iii) float\n",
    "float_var = 5.03\n",
    "print(f\"{float_var}, type - {type(float_var)}\")\n",
    "# (iv) tuple\n",
    "tuple1 = (1,2,3)\n",
    "print(f\"{tuple1}, type - {type(tuple1)}\")\n",
    "\n",
    "print('-'*50)\n",
    "a = [ \"Priya\", [1,2,3], 5.0, (15,20)]\n",
    "print(a)\n",
    "for i in a:\n",
    "    print(f\"{i}, type - {type(i)}\")"
   ]
  },
  {
   "cell_type": "markdown",
   "id": "d6671ec4-75f0-482b-8659-4e2e5487d38b",
   "metadata": {},
   "source": [
    "Q2. Given are some following variables containing data:\n",
    "\n",
    "(i)var1=‘‘\n",
    "\n",
    "\n",
    "(ii) var2 = ‘[ DS , ML , Python]’\n",
    "\n",
    "\n",
    "(iii) var3 = [ ‘DS’ , ’ML’ , ‘Python’ ]\n",
    "\n",
    "\n",
    "(iv) var4 = 1.\n",
    "\n"
   ]
  },
  {
   "cell_type": "markdown",
   "id": "a392c29e-2c4e-4024-a374-5fe961959907",
   "metadata": {},
   "source": [
    "Answer:\n",
    "    \n",
    "(i)  var1=‘‘  - String\n",
    "\n",
    "(ii) var2 = ‘[ DS , ML , Python]’  ---> String\n",
    "\n",
    "(iii) var3 = [ ‘DS’ , ’ML’ , ‘Python’ ]  -->list\n",
    "\n",
    "\n",
    "(iv) var4 = 1. -->Integer --> float\n",
    "\n",
    "What will be the data type of the above given variable.\n"
   ]
  },
  {
   "cell_type": "code",
   "execution_count": 32,
   "id": "1facec3e-e17f-49e6-8680-73fe90c5cef3",
   "metadata": {},
   "outputs": [
    {
     "name": "stdout",
     "output_type": "stream",
     "text": [
      ", type - <class 'str'>\n",
      "[ DS , ML , Python], type - <class 'str'>\n",
      "['DS', 'ML', 'Python'], type - <class 'list'>\n",
      "1.0, type - <class 'float'>\n"
     ]
    }
   ],
   "source": [
    "var1=''\n",
    "print(f\"{var1}, type - {type(var1)}\")\n",
    "\n",
    "var2 = '[ DS , ML , Python]'\n",
    "print(f\"{var2}, type - {type(var2)}\")\n",
    "\n",
    "var3 = [ 'DS' , 'ML' , 'Python' ]\n",
    "print(f\"{var3}, type - {type(var3)}\")\n",
    "\n",
    "var4 = 1.\n",
    "print(f\"{var4}, type - {type(var4)}\")"
   ]
  },
  {
   "cell_type": "markdown",
   "id": "64fd37d4-0c00-495a-a6f3-9fe142c7c64d",
   "metadata": {},
   "source": [
    "Q3. Explain the use of the following operators using an example:\n",
    "\n",
    "(i) /\n",
    "\n",
    "(ii) %\n",
    "\n",
    "(iii) //\n",
    "\n",
    "(iv) **\n"
   ]
  },
  {
   "cell_type": "code",
   "execution_count": 33,
   "id": "38b6e79c-f522-4f14-b3ca-d988e2d0deec",
   "metadata": {},
   "outputs": [
    {
     "name": "stdout",
     "output_type": "stream",
     "text": [
      "c =  5.0\n",
      "d =  2\n",
      "d =  5\n",
      "d =  25\n"
     ]
    }
   ],
   "source": [
    "# Ans=wer(Q3)\n",
    "\n",
    "# (i) / - is division operator used to perform division operation,Eg, as follows\n",
    "c = 25/5\n",
    "print('c = ',c)\n",
    "\n",
    "# (ii) % - is mod operator used to get reminder in division operation,Eg, as follows\n",
    "\n",
    "d = 27%5\n",
    "print('d = ',d)\n",
    "\n",
    "# (iii) //- is integer division operator used to get integer quoient in division operation,Eg, as follows\n",
    "\n",
    "d = 29//5\n",
    "print('d = ',d)\n",
    "\n",
    "# (iv) **- is power operator used to get the power of a number,Eg, as follows\n",
    "\n",
    "d = 5**2\n",
    "print('d = ',d)"
   ]
  },
  {
   "cell_type": "markdown",
   "id": "75ac2020-6d65-434d-89d4-8db47e562305",
   "metadata": {},
   "source": [
    "Q4. Create a list of length 10 of your choice containing multiple types of data. Using for loop print the element and its data type.\n",
    "\n"
   ]
  },
  {
   "cell_type": "code",
   "execution_count": 36,
   "id": "f8c5000c-8b45-4f3c-b6d1-8316c0663421",
   "metadata": {},
   "outputs": [
    {
     "name": "stdout",
     "output_type": "stream",
     "text": [
      "List --> ['Priya', [1, 2, 3], 5.0, (15, 20), 10, 'abcd', {'name': 'Ajit'}, 'c', True, ('abcd', 70)]\n",
      "Length = 10\n",
      "--------------------------------------------------\n",
      "Priya, type - <class 'str'>\n",
      "[1, 2, 3], type - <class 'list'>\n",
      "5.0, type - <class 'float'>\n",
      "(15, 20), type - <class 'tuple'>\n",
      "10, type - <class 'int'>\n",
      "abcd, type - <class 'str'>\n",
      "{'name': 'Ajit'}, type - <class 'dict'>\n",
      "c, type - <class 'str'>\n",
      "True, type - <class 'bool'>\n",
      "('abcd', 70), type - <class 'tuple'>\n"
     ]
    }
   ],
   "source": [
    "# Answer(Q4)\n",
    "a = [ \"Priya\", [1,2,3], 5.0, (15,20), 10, 'abcd', {'name':'Ajit'},'c',True, ('abcd',70)]\n",
    "print(f\"List --> {a}\")\n",
    "print(f\"Length = {len(a)}\")\n",
    "print('-'*50)\n",
    "for i in a:\n",
    "    print(f\"{i}, type - {type(i)}\")"
   ]
  },
  {
   "cell_type": "markdown",
   "id": "8577e614-3fd3-4e23-b5c4-42641b572dd4",
   "metadata": {},
   "source": [
    "Q5. Using a while loop, verify if the number A is purely divisible by number B and if so then how many times it can be divisible."
   ]
  },
  {
   "cell_type": "code",
   "execution_count": 37,
   "id": "c4ac0d6f-5de7-4e32-8a42-610df59f2861",
   "metadata": {},
   "outputs": [
    {
     "name": "stdin",
     "output_type": "stream",
     "text": [
      "Enter number(Divident) A 3\n",
      "Enter number(Divisor) B 0\n"
     ]
    },
    {
     "name": "stdout",
     "output_type": "stream",
     "text": [
      "Divisor is Zero\n"
     ]
    }
   ],
   "source": [
    "# Answer(Q5)\n",
    "\n",
    "A = int(input(\"Enter number(Divident) A\"))\n",
    "B = int(input(\"Enter number(Divisor) B\"))\n",
    "a1 = A\n",
    "count = 0\n",
    "if B == 0:\n",
    "    print(\"Divisor is Zero\")\n",
    "else:\n",
    "    while A-B >= 0:\n",
    "        count += 1\n",
    "        A = A-B\n",
    "        if A == 0:\n",
    "            print(\"{} is purely divisible by {} -> {} times divisible\".format(a1,B,count))\n",
    "            break\n",
    "if A != 0 and A-B < 0:\n",
    "    print(\"{} is not purely divisible by  {} -> {} times divisible with reminder {}\".format(a1,B,count,A))"
   ]
  },
  {
   "cell_type": "markdown",
   "id": "06c78d60-1793-424f-a87f-cb012a3e292e",
   "metadata": {},
   "source": [
    "Q6. Create a list containing 25 int type data. Using for loop and if-else condition print if the element is divisible by 3 or not."
   ]
  },
  {
   "cell_type": "code",
   "execution_count": 38,
   "id": "e3ac4d0c-1986-4d69-b447-fa78341d84b8",
   "metadata": {},
   "outputs": [
    {
     "name": "stdout",
     "output_type": "stream",
     "text": [
      "[0, 1, 2, 3, 4, 5, 6, 7, 8, 9, 10, 11, 12, 13, 14, 15, 16, 17, 18, 19, 20, 21, 22, 23, 24]\n",
      "0 is divisible by 3\n",
      "1 is not divisible by 3\n",
      "2 is not divisible by 3\n",
      "3 is divisible by 3\n",
      "4 is not divisible by 3\n",
      "5 is not divisible by 3\n",
      "6 is divisible by 3\n",
      "7 is not divisible by 3\n",
      "8 is not divisible by 3\n",
      "9 is divisible by 3\n",
      "10 is not divisible by 3\n",
      "11 is not divisible by 3\n",
      "12 is divisible by 3\n",
      "13 is not divisible by 3\n",
      "14 is not divisible by 3\n",
      "15 is divisible by 3\n",
      "16 is not divisible by 3\n",
      "17 is not divisible by 3\n",
      "18 is divisible by 3\n",
      "19 is not divisible by 3\n",
      "20 is not divisible by 3\n",
      "21 is divisible by 3\n",
      "22 is not divisible by 3\n",
      "23 is not divisible by 3\n",
      "24 is divisible by 3\n"
     ]
    }
   ],
   "source": [
    "numbers_list = [*range(0, 25)]\n",
    "print(numbers_list)\n",
    "for no in numbers_list:\n",
    "    if no%3 == 0:\n",
    "        print(f\"{no} is divisible by 3\")\n",
    "    else:\n",
    "        print(f\"{no} is not divisible by 3\")\n",
    "        "
   ]
  },
  {
   "cell_type": "markdown",
   "id": "f5637354-2792-4277-b1bb-ca366a38e0f3",
   "metadata": {},
   "source": [
    "Q7. What do you understand about mutable and immutable data types? Give examples for both showing this property."
   ]
  },
  {
   "cell_type": "code",
   "execution_count": 39,
   "id": "463e8d02-04d4-4d75-a94f-b1b4f67b2b88",
   "metadata": {},
   "outputs": [
    {
     "name": "stdout",
     "output_type": "stream",
     "text": [
      "[1, 2, 3, 10, 5]\n"
     ]
    },
    {
     "ename": "TypeError",
     "evalue": "'str' object does not support item assignment",
     "output_type": "error",
     "traceback": [
      "\u001b[0;31m---------------------------------------------------------------------------\u001b[0m",
      "\u001b[0;31mTypeError\u001b[0m                                 Traceback (most recent call last)",
      "Cell \u001b[0;32mIn[39], line 11\u001b[0m\n\u001b[1;32m      9\u001b[0m \u001b[38;5;66;03m# Immutable: It cannot be changable based on index, Eg: String, Tuples - it will throw error\u001b[39;00m\n\u001b[1;32m     10\u001b[0m name \u001b[38;5;241m=\u001b[39m \u001b[38;5;124m'\u001b[39m\u001b[38;5;124mPriya\u001b[39m\u001b[38;5;124m'\u001b[39m\n\u001b[0;32m---> 11\u001b[0m \u001b[43mname\u001b[49m\u001b[43m[\u001b[49m\u001b[38;5;241;43m3\u001b[39;49m\u001b[43m]\u001b[49m \u001b[38;5;241m=\u001b[39m \u001b[38;5;124m'\u001b[39m\u001b[38;5;124ms\u001b[39m\u001b[38;5;124m'\u001b[39m\n\u001b[1;32m     12\u001b[0m \u001b[38;5;28mprint\u001b[39m(name)\n\u001b[1;32m     14\u001b[0m tuple1 \u001b[38;5;241m=\u001b[39m (\u001b[38;5;241m20\u001b[39m,\u001b[38;5;241m30\u001b[39m,\u001b[38;5;241m40\u001b[39m)\n",
      "\u001b[0;31mTypeError\u001b[0m: 'str' object does not support item assignment"
     ]
    }
   ],
   "source": [
    "# Answer(Q7)\n",
    "\n",
    "# Mutable: It can be changable based on index,Eg: List\n",
    "list = [1,2,3,4,5]\n",
    "list[3] = 10\n",
    "print(list)\n",
    "\n",
    "\n",
    "# Immutable: It cannot be changable based on index, Eg: String, Tuples - it will throw error\n",
    "name = 'Priya'\n",
    "name[3] = 's'\n",
    "print(name)\n",
    "\n",
    "tuple1 = (20,30,40)\n",
    "tuple1[1] = 100\n",
    "print(tuple1)\n"
   ]
  }
 ],
 "metadata": {
  "kernelspec": {
   "display_name": "Python 3 (ipykernel)",
   "language": "python",
   "name": "python3"
  },
  "language_info": {
   "codemirror_mode": {
    "name": "ipython",
    "version": 3
   },
   "file_extension": ".py",
   "mimetype": "text/x-python",
   "name": "python",
   "nbconvert_exporter": "python",
   "pygments_lexer": "ipython3",
   "version": "3.10.8"
  }
 },
 "nbformat": 4,
 "nbformat_minor": 5
}
