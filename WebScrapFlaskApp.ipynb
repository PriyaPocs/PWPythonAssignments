{
 "cells": [
  {
   "cell_type": "markdown",
   "id": "8e5f9734-2c15-4f73-b1ef-df69d94bd00a",
   "metadata": {},
   "source": [
    "Go to this given URL and solve the following questions\n",
    "\n",
    " URL: https://www.youtube.com/@PW-Foundation/videos\n",
    " \n",
    "Q1. Write a python program to extract the video URL of the first five videos.\n",
    "\n",
    "Answer(Q1):\n",
    "\n",
    "  Web scrapping Flask App (developed in system's vscode github) link has been attached.\n",
    "  \n",
    "  https://github.com/PriyaPocs/WebScrappFlaskApp\n",
    "  \n",
    "  All the screenshots are attached in github Flask App for reference.\n"
   ]
  },
  {
   "cell_type": "markdown",
   "id": "aaf57d12-f142-4851-a9e7-d61daece797a",
   "metadata": {},
   "source": [
    "[Screenshot 2023-07-14 at 12.25.56 PM.png]"
   ]
  },
  {
   "cell_type": "markdown",
   "id": "f9cfb531-1227-43a0-99c8-023b9524c9b8",
   "metadata": {},
   "source": [
    "[Screenshot 2023-07-14 at 12.27.07 PM.png]"
   ]
  },
  {
   "cell_type": "markdown",
   "id": "465d0b87-4103-4e76-8a92-0a1363d89879",
   "metadata": {},
   "source": [
    "Q2. Write a python program to extract the URL of the video thumbnails of the first five videos.\n",
    "\n",
    "\n",
    "Answer(Q2):\n"
   ]
  },
  {
   "cell_type": "markdown",
   "id": "26456e8f-369a-4552-8f1f-e25142feb6d2",
   "metadata": {},
   "source": [
    "[Screenshot 2023-07-14 at 12.27.27 PM.png]"
   ]
  },
  {
   "cell_type": "markdown",
   "id": "b5c10b21-2104-4c50-9f31-9ba53c92ee60",
   "metadata": {},
   "source": [
    "Q3. Write a python program to extract the title of the first five videos.\n",
    "\n",
    "\n",
    "Answer(Q3):\n"
   ]
  },
  {
   "cell_type": "markdown",
   "id": "62acfc87-8dbb-48c6-a649-490b8f2d9809",
   "metadata": {},
   "source": [
    "[Screenshot 2023-07-14 at 12.27.46 PM.png]"
   ]
  },
  {
   "cell_type": "markdown",
   "id": "47e15b10-009a-467b-adbe-8740d3bafb64",
   "metadata": {},
   "source": [
    "Q4. Write a python program to extract the number of views of the first five videos.\n",
    "\n",
    "\n",
    "Answer(Q4):\n",
    "\n"
   ]
  },
  {
   "cell_type": "markdown",
   "id": "d1b981be-1397-45fe-9ca8-8bd9263e5966",
   "metadata": {},
   "source": [
    "[Screenshot 2023-07-14 at 12.28.04 PM.png]"
   ]
  },
  {
   "cell_type": "markdown",
   "id": "d772f437-f2f8-4ddd-8cbc-2d02db16e528",
   "metadata": {},
   "source": [
    "Q5. Write a python program to extract the time of posting of video for the first five videos.\n",
    "\n",
    "\n",
    "Answer(Q5):\n"
   ]
  },
  {
   "cell_type": "markdown",
   "id": "367df4e8-30b7-4b5e-9c6e-9c5a62a244d4",
   "metadata": {},
   "source": [
    "[Screenshot 2023-07-14 at 12.28.20 PM.png]"
   ]
  },
  {
   "cell_type": "markdown",
   "id": "3d09453c-1ef5-4110-b9ea-7e66b426040b",
   "metadata": {},
   "source": [
    "Note: Save all the data scraped in the above questions in a CSV file.\n",
    "\n",
    "\n",
    "Answer:\n",
    "\n",
    "Generated csv file link:\n",
    "\n",
    "https://github.com/PriyaPocs/WebScrappFlaskApp/blob/main/pwskills_web_scrape_info.csv\n"
   ]
  },
  {
   "cell_type": "markdown",
   "id": "9cd7b472-2482-4fd6-af41-f36911a80ab7",
   "metadata": {},
   "source": [
    "Create a simple UI with all functionalities mentioned above and deploy it in AWS.\n",
    "\n",
    "\n",
    "Faced some problem with credit card while creating an account with AWS. So tried with render.com as Sudhansu Sir guided in the revision class.\n",
    "\n",
    "Attached link:\n",
    "\n",
    "https://webscrapflaskapp.onrender.com/\n",
    "\n"
   ]
  }
 ],
 "metadata": {
  "kernelspec": {
   "display_name": "Python 3 (ipykernel)",
   "language": "python",
   "name": "python3"
  },
  "language_info": {
   "codemirror_mode": {
    "name": "ipython",
    "version": 3
   },
   "file_extension": ".py",
   "mimetype": "text/x-python",
   "name": "python",
   "nbconvert_exporter": "python",
   "pygments_lexer": "ipython3",
   "version": "3.10.8"
  }
 },
 "nbformat": 4,
 "nbformat_minor": 5
}
