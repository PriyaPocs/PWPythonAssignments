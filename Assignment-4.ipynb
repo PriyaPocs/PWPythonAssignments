{
 "cells": [
  {
   "cell_type": "markdown",
   "id": "413a8cd2-7171-4349-9fab-50261f48cbfc",
   "metadata": {},
   "source": [
    "Q1. Create a python program to sort the given list of tuples based on integer value using a lambda function.\n",
    "\n",
    "[('Sachin Tendulkar', 34357), ('Ricky Ponting', 27483), ('Jack Kallis', 25534), ('Virat Kohli', 24936)]"
   ]
  },
  {
   "cell_type": "code",
   "execution_count": 22,
   "id": "34dc74bb-39f4-4778-9b84-3d043b2b3820",
   "metadata": {},
   "outputs": [
    {
     "name": "stdout",
     "output_type": "stream",
     "text": [
      "Original list of tuples: [('Sachin Tendulkar', 34357), ('Ricky Ponting', 27483), ('Jack Kallis', 25534), ('Virat Kohli', 24936)]\n",
      "\n",
      "Sorting the List of Tuples:\n",
      "[('Virat Kohli', 24936), ('Jack Kallis', 25534), ('Ricky Ponting', 27483), ('Sachin Tendulkar', 34357)]\n"
     ]
    }
   ],
   "source": [
    "# Answer(Q1):\n",
    "\n",
    "tuples_list = [('Sachin Tendulkar', 34357), ('Ricky Ponting', 27483), ('Jack Kallis', 25534), ('Virat Kohli', 24936)]\n",
    "print(\"Original list of tuples:\",tuples_list)\n",
    "\n",
    "tuples_list.sort(key = lambda x: x[1])\n",
    "print(\"\\nSorting the List of Tuples:\")\n",
    "print(tuples_list)"
   ]
  },
  {
   "cell_type": "markdown",
   "id": "d5237867-987c-4916-a058-6f0a7c389b99",
   "metadata": {},
   "source": [
    "Q2. Write a Python Program to find the squares of all the numbers in the given list of integers using lambda and map functions.\n",
    "\n",
    "[1,2,3,4,5,6,7,8,9,10]"
   ]
  },
  {
   "cell_type": "code",
   "execution_count": 23,
   "id": "ce3162c8-6a90-469f-82db-285ac0a25586",
   "metadata": {},
   "outputs": [
    {
     "name": "stdout",
     "output_type": "stream",
     "text": [
      "Original list :\n",
      "[1, 2, 3, 4, 5, 6, 7, 8, 9, 10]\n",
      "\n",
      "Square every number of the said list:\n",
      "[1, 4, 9, 16, 25, 36, 49, 64, 81, 100]\n"
     ]
    }
   ],
   "source": [
    "# Answer(Q2):\n",
    "\n",
    "nums = [1, 2, 3, 4, 5, 6, 7, 8, 9, 10]\n",
    "print(\"Original list :\")\n",
    "print(nums)\n",
    "print(\"\\nSquare every number of the said list:\")\n",
    "square_nums = list(map(lambda x: x ** 2, nums))\n",
    "print(square_nums)"
   ]
  },
  {
   "cell_type": "markdown",
   "id": "b31032a2-0f41-4dfd-9272-16b83d05f9dc",
   "metadata": {},
   "source": [
    "Q3. Write a python program to convert the given list of integers into a tuple of strings. Use map and lambda functions\n",
    "\n",
    "\n",
    "Given String: [1, 2, 3, 4, 5, 6, 7, 8, 9, 10]\n",
    "\n",
    "Expected output: ('1', '2', '3', '4', '5', '6', '7', '8', '9', '10')"
   ]
  },
  {
   "cell_type": "code",
   "execution_count": 24,
   "id": "02c832c7-308e-4178-90e0-142588c45e6e",
   "metadata": {},
   "outputs": [
    {
     "name": "stdout",
     "output_type": "stream",
     "text": [
      "Original list :\n",
      "[1, 2, 3, 4, 5, 6, 7, 8, 9, 10]\n",
      "('1', '2', '3', '4', '5', '6', '7', '8', '9', '10')\n"
     ]
    }
   ],
   "source": [
    "# Answer(Q3):\n",
    "\n",
    "integer_list = [1, 2, 3, 4, 5, 6, 7, 8, 9, 10]\n",
    "print(\"Original list :\")\n",
    "print(integer_list)\n",
    "\n",
    "tuple_string = tuple(map(lambda x:str(x),integer_list))\n",
    "print(tuple_string)\n"
   ]
  },
  {
   "cell_type": "markdown",
   "id": "1525dfab-3723-4e90-a408-1d649cda160e",
   "metadata": {},
   "source": [
    "Q4. Write a python program using reduce function to compute the product of a list containing numbers from 1 to 25."
   ]
  },
  {
   "cell_type": "code",
   "execution_count": 25,
   "id": "6356eb0d-f017-47e1-96ab-4e521ed05022",
   "metadata": {},
   "outputs": [
    {
     "name": "stdout",
     "output_type": "stream",
     "text": [
      "Given list:  [1, 2, 3, 4, 5, 6, 7, 8, 9, 10, 11, 12, 13, 14, 15, 16, 17, 18, 19, 20, 21, 22, 23, 24, 25]\n",
      "15511210043330985984000000\n"
     ]
    }
   ],
   "source": [
    "# Answer(Q4):\n",
    "\n",
    "import functools\n",
    "\n",
    "list1 = list(range(1,26))\n",
    "print(\"Given list: \",list1)\n",
    "\n",
    "print(functools.reduce(lambda a, b: a*b, list1))"
   ]
  },
  {
   "cell_type": "markdown",
   "id": "01adbaea-b7c1-431f-8dd8-91acb40a4331",
   "metadata": {},
   "source": [
    "Q5. Write a python program to filter the numbers in a given list that are divisible by 2 and 3 using the filter function.\n",
    "\n",
    "\n",
    "[2, 3, 6, 9, 27, 60, 90, 120, 55, 46]"
   ]
  },
  {
   "cell_type": "code",
   "execution_count": 26,
   "id": "554103d6-aa96-4e06-a2a4-fe0a7a86d2cc",
   "metadata": {},
   "outputs": [
    {
     "name": "stdout",
     "output_type": "stream",
     "text": [
      "given_list : [2, 3, 6, 9, 27, 60, 90, 120, 55, 46]\n",
      "Nos. divisible by 2 and 3 are : [6, 60, 90, 120]\n"
     ]
    }
   ],
   "source": [
    "# Answer(Q5):\n",
    "\n",
    "given_list = [2, 3, 6, 9, 27, 60, 90, 120, 55, 46]\n",
    "print(\"given_list :\",given_list)\n",
    "output_list = list(filter(lambda x: (x%2 == 0 and x%3 == 0),given_list))\n",
    "print(\"Nos. divisible by 2 and 3 are :\",output_list)"
   ]
  },
  {
   "cell_type": "markdown",
   "id": "8d0e5bd0-8e5f-44bb-b36b-3371b9ec6ce5",
   "metadata": {},
   "source": [
    "Q6. Write a python program to find palindromes in the given list of strings using lambda and filter function.\n",
    "\n",
    "\n",
    "['python', 'php', 'aba', 'radar', 'level']"
   ]
  },
  {
   "cell_type": "code",
   "execution_count": 28,
   "id": "373da0a2-3a90-4ce2-8f38-b78ecdfc0043",
   "metadata": {},
   "outputs": [
    {
     "name": "stdout",
     "output_type": "stream",
     "text": [
      "polyndrome string list : ['php', 'aba', 'radar', 'level']\n"
     ]
    }
   ],
   "source": [
    "# Answer(Q6):\n",
    "\n",
    "str_list = ['python', 'php', 'aba', 'radar', 'level']\n",
    "\n",
    "output_list = list(filter(lambda x: (x == \"\".join(reversed(x))), str_list)) \n",
    "\n",
    "print(\"polyndrome string list :\",output_list)"
   ]
  }
 ],
 "metadata": {
  "kernelspec": {
   "display_name": "Python 3 (ipykernel)",
   "language": "python",
   "name": "python3"
  },
  "language_info": {
   "codemirror_mode": {
    "name": "ipython",
    "version": 3
   },
   "file_extension": ".py",
   "mimetype": "text/x-python",
   "name": "python",
   "nbconvert_exporter": "python",
   "pygments_lexer": "ipython3",
   "version": "3.10.8"
  }
 },
 "nbformat": 4,
 "nbformat_minor": 5
}
