{
 "cells": [
  {
   "cell_type": "markdown",
   "id": "85ad0137-1c1b-4083-a17f-f6d04246173d",
   "metadata": {},
   "source": [
    "Q1, Create a vehicle class with an init method having instance variables as name_of_vehicle, max_speed and average_of_vehicle.\n",
    "\n",
    "Answer(Q1):\n"
   ]
  },
  {
   "cell_type": "code",
   "execution_count": 1,
   "id": "cd2fe703-eedb-4952-83ad-561ab37aa353",
   "metadata": {},
   "outputs": [
    {
     "name": "stdout",
     "output_type": "stream",
     "text": [
      "vehicle1.name Pulsor, vehicle1.max_speed 150 kph and average is 40\n"
     ]
    }
   ],
   "source": [
    "class Vehicle:\n",
    "    def __init__(self,name,max_speed,average):\n",
    "        self.name = name\n",
    "        self.max_speed = max_speed\n",
    "        self.average = average\n",
    "        \n",
    "vehicle1 =  Vehicle(\"Pulsor\",\"150 kph\", 40)\n",
    "print(f\"vehicle1.name {vehicle1.name}, vehicle1.max_speed {vehicle1.max_speed} and average is {vehicle1.average}\")"
   ]
  },
  {
   "cell_type": "markdown",
   "id": "0f2fec3f-2907-4b91-ad46-c34d5885ed1c",
   "metadata": {},
   "source": [
    "Q2. Create a child class car from the vehicle class created in Que 1, which will inherit the vehicle class. Create a method named seating_capacity\n",
    "\n",
    "which takes capacity as an argument and returns the name of the vehicle and its seating capacity.\n"
   ]
  },
  {
   "cell_type": "code",
   "execution_count": 3,
   "id": "f511da73-b911-4874-a02d-c0cb7774061f",
   "metadata": {},
   "outputs": [
    {
     "name": "stdout",
     "output_type": "stream",
     "text": [
      " car BMW , with seating capacity 5\n"
     ]
    }
   ],
   "source": [
    "class Vehicle:\n",
    "    def __init__(self,name,max_speed,average):\n",
    "        self.name = \"\"\n",
    "        self.max_speed = max_speed\n",
    "        self.average = average\n",
    "        \n",
    "class Car(Vehicle):\n",
    "    def __init__(self,name):\n",
    "        self.name = name \n",
    "    def seating_capacity(self,capacity):\n",
    "        print(f\" Car {self.name} , with seating capacity {capacity}\")\n",
    "\n",
    "car1 = Car(\"BMW\")\n",
    "car1.seating_capacity(5)"
   ]
  },
  {
   "cell_type": "markdown",
   "id": "659818ad-c76a-4726-bccd-a3200446e1d9",
   "metadata": {},
   "source": [
    "Q3. What is multiple inheritance? Write a python code to demonstrate multiple inheritance.\n",
    "\n",
    "Answer(Q3):\n",
    "\n",
    "Multiple Inheritance:\n",
    "\n",
    "When a class can be derived from more than one base class this type of inheritance is called multiple inheritances. In multiple inheritances,\n",
    "\n",
    "all the features of the base classes are inherited into the derived class."
   ]
  },
  {
   "cell_type": "code",
   "execution_count": 19,
   "id": "36ab2187-10cd-4803-bf47-cbdd4639f115",
   "metadata": {},
   "outputs": [
    {
     "name": "stdout",
     "output_type": "stream",
     "text": [
      "Father : RAM\n",
      "Mother : SITA\n"
     ]
    }
   ],
   "source": [
    "# multiple inheritance\n",
    "\n",
    "# Base class1\n",
    "class Mother:\n",
    "\tmothername = \"\"\n",
    "\n",
    "\tdef mother(self):\n",
    "\t\tprint(self.mothername)\n",
    "\n",
    "# Base class2\n",
    "\n",
    "\n",
    "class Father:\n",
    "\tfathername = \"\"\n",
    "\n",
    "\tdef father(self):\n",
    "\t\tprint(self.fathername)\n",
    "\n",
    "# Derived class\n",
    "\n",
    "\n",
    "class Son(Mother, Father):\n",
    "\tdef parents(self):\n",
    "\t\tprint(\"Father :\", self.fathername)\n",
    "\t\tprint(\"Mother :\", self.mothername)\n",
    "\n",
    "\n",
    "# Driver's code\n",
    "s1 = Son()\n",
    "s1.fathername = \"RAM\"\n",
    "s1.mothername = \"SITA\"\n",
    "s1.parents()"
   ]
  },
  {
   "cell_type": "markdown",
   "id": "8464695b-ee53-4950-bd76-8a2895a5886f",
   "metadata": {},
   "source": [
    "Q4. What are getter and setter in python? Create a class and create a getter and a setter method in this class.\n",
    "\n",
    "Answer(Q4):\n",
    "\n",
    "Getter: A method that allows you to access an attribute in a given class. \n",
    "\n",
    "Setter: A method that allows you to set or mutate the value of an attribute in a class.\n"
   ]
  },
  {
   "cell_type": "code",
   "execution_count": 26,
   "id": "5cca9fe3-92cd-4e64-b7f8-6daae54a94b0",
   "metadata": {},
   "outputs": [
    {
     "name": "stdout",
     "output_type": "stream",
     "text": [
      "21\n",
      "21\n"
     ]
    }
   ],
   "source": [
    "# getter() and setter() method in\n",
    "# normal function\n",
    "\n",
    "class Student:\n",
    "\tdef __init__(self,age = 0):\n",
    "\t\t self._age = age\n",
    "     \n",
    "\t# getter method\n",
    "\tdef get_age(self):\n",
    "\t\t return self._age\n",
    "\t\n",
    "\t# setter method\n",
    "\tdef set_age(self, x):\n",
    "\t\t self._age = x\n",
    "\n",
    "student1 = Student() \n",
    "\n",
    "# setting the age using setter\n",
    "student1.set_age(21)\n",
    "\n",
    "# retrieving age using getter\n",
    "print(student1.get_age())\n",
    "\n",
    "print(student1._age)"
   ]
  },
  {
   "cell_type": "markdown",
   "id": "d2229284-c550-41d0-9a62-17fa2ea88aaa",
   "metadata": {},
   "source": [
    "Q5.What is method overriding in python? Write a python code to demonstrate method overriding.\n",
    "\n",
    "Answer(Q5):\n",
    "\n",
    "Method overriding is an ability of any object-oriented programming language that allows a subclass or child class to provide a specific implementation of a method that is already provided by one of its super-classes or parent classes. When a method in a subclass has the same name, same parameters or signature and same return type(or sub-type) as a method in its super-class, then the method in the subclass is said to override the method in the super-class."
   ]
  },
  {
   "cell_type": "code",
   "execution_count": 27,
   "id": "234bd76d-1fda-4c38-9d49-6780db5d765e",
   "metadata": {},
   "outputs": [
    {
     "name": "stdout",
     "output_type": "stream",
     "text": [
      "Parent\n",
      "Child\n"
     ]
    }
   ],
   "source": [
    "# method overriding\n",
    "# Defining parent class\n",
    "class Parent():\n",
    "\t\n",
    "\t# Constructor\n",
    "\tdef __init__(self):\n",
    "\t\tself.value = \"Parent\"\n",
    "\t\t\n",
    "\t# Parent's show method\n",
    "\tdef show(self):\n",
    "\t\tprint(self.value)\n",
    "\t\t\n",
    "# Defining child class\n",
    "class Child(Parent):\n",
    "\t\n",
    "\t# Constructor\n",
    "\tdef __init__(self):\n",
    "\t\tself.value = \"Child\"\n",
    "\t\t\n",
    "\t# Child's show method\n",
    "\tdef show(self):\n",
    "\t\tprint(self.value)\n",
    "\t\t\n",
    "\t\t\n",
    "# Driver's code\n",
    "obj1 = Parent()\n",
    "obj2 = Child()\n",
    "\n",
    "obj1.show()\n",
    "obj2.show()\n"
   ]
  }
 ],
 "metadata": {
  "kernelspec": {
   "display_name": "Python 3 (ipykernel)",
   "language": "python",
   "name": "python3"
  },
  "language_info": {
   "codemirror_mode": {
    "name": "ipython",
    "version": 3
   },
   "file_extension": ".py",
   "mimetype": "text/x-python",
   "name": "python",
   "nbconvert_exporter": "python",
   "pygments_lexer": "ipython3",
   "version": "3.10.8"
  }
 },
 "nbformat": 4,
 "nbformat_minor": 5
}
