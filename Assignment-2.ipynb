{
 "cells": [
  {
   "cell_type": "markdown",
   "id": "f9896215-2a7b-4b54-9a5b-815a012f41c8",
   "metadata": {},
   "source": [
    "Q1. How do you comment code in Python? What are the different types of comments?"
   ]
  },
  {
   "cell_type": "markdown",
   "id": "d1dc49f3-a9bb-42f5-98e5-5f25fefaad29",
   "metadata": {},
   "source": [
    "Answer(Q1): \n",
    "We can command code by prefixed with #. Eg as follows.\n",
    "    "
   ]
  },
  {
   "cell_type": "code",
   "execution_count": 4,
   "id": "c03988a4-cc70-4099-96ab-115e5fc42703",
   "metadata": {},
   "outputs": [
    {
     "data": {
      "text/plain": [
       "'\\nExample of multiline comments\\nhello this is a example of python\\nmulti lines command\\n'"
      ]
     },
     "execution_count": 4,
     "metadata": {},
     "output_type": "execute_result"
    }
   ],
   "source": [
    "## Comments\n",
    "## for single we use ##\n",
    "## this is a function\n",
    "# this is a comment\n",
    "\n",
    "\"\"\"\n",
    "Example of multiline comments\n",
    "hello this is a example of python\n",
    "multi lines command\n",
    "\"\"\""
   ]
  },
  {
   "cell_type": "markdown",
   "id": "530c60c2-e5a1-4236-9090-3ab493cfc22b",
   "metadata": {},
   "source": [
    "Q2. What are variables in Python? How do you declare and assign values to variables?\n",
    "\n",
    "Answer(Q2):\n",
    "\n",
    "A variable is a string of characters and numbers associated with a piece of information. The assignment operator, denoted by the “=” symbol, is the\n",
    "\n",
    "operator that is used to assign values to variables in Python.Eg as follows."
   ]
  },
  {
   "cell_type": "code",
   "execution_count": 5,
   "id": "28143c1d-4d80-4478-9903-700c29b18eb2",
   "metadata": {},
   "outputs": [],
   "source": [
    "x = 1\n",
    "name = 'Priya'\n",
    "float_no = 5.0"
   ]
  },
  {
   "cell_type": "markdown",
   "id": "f4e18b03-0bc0-462f-8e73-ffa078d2d2b0",
   "metadata": {},
   "source": [
    "Q3. How do you convert one data type to another in Python?\n",
    "\n",
    "Answer(Q3):\n",
    "\n",
    "we can convert one data type to another by simply use the type name as a function. There are several built-in functions to perform conversion from\n",
    "\n",
    "one data type to another. These functions return a new object representing the converted value.\n",
    "\n",
    "Egs as follows."
   ]
  },
  {
   "cell_type": "code",
   "execution_count": 10,
   "id": "a5c9f8cb-4974-4430-9c7a-9c18b071534a",
   "metadata": {},
   "outputs": [
    {
     "name": "stdout",
     "output_type": "stream",
     "text": [
      "<class 'int'>\n",
      "<class 'str'>\n"
     ]
    },
    {
     "data": {
      "text/plain": [
       "[1, 2, 3]"
      ]
     },
     "execution_count": 10,
     "metadata": {},
     "output_type": "execute_result"
    }
   ],
   "source": [
    "no = int('5')\n",
    "print(type(no))\n",
    "str_number = str(5)\n",
    "print(type(str_number))\n",
    "tuple1 = (1,2,3)\n",
    "list(tuple1)"
   ]
  },
  {
   "cell_type": "markdown",
   "id": "fe0ceef4-30e0-4dc7-9f48-32f54d2f5ddc",
   "metadata": {},
   "source": [
    "Q4. How do you write and execute a Python script from the command line?\n",
    "\n",
    "Answer(Q4):\n",
    "\n",
    "The most basic and easy way to run a Python script is by using the python command. You need to open a command line and type the word python \n",
    "\n",
    "followed by the path to your script file like this:\n",
    "\n",
    "python scriptfilename.py\n"
   ]
  },
  {
   "cell_type": "markdown",
   "id": "e8041080-1d58-43ec-9929-7b4f34d90211",
   "metadata": {},
   "source": [
    "Q5. Given a list my_list = [1, 2, 3, 4, 5], write the code to slice the list and obtain the sub-list [2, 3].\n"
   ]
  },
  {
   "cell_type": "code",
   "execution_count": 11,
   "id": "b29287ba-1707-46da-be31-ba03bd2da19f",
   "metadata": {},
   "outputs": [
    {
     "name": "stdout",
     "output_type": "stream",
     "text": [
      "[2, 3]\n"
     ]
    }
   ],
   "source": [
    "# Answer(Q5):\n",
    "\n",
    "my_list = [1, 2, 3, 4, 5]\n",
    "sub_list = my_list[1:3]\n",
    "print(sub_list)"
   ]
  },
  {
   "cell_type": "markdown",
   "id": "a9a0aad4-deda-4ad6-a5fd-a1fcc25d36dd",
   "metadata": {},
   "source": [
    "Q6. What is a complex number in mathematics, and how is it represented in Python?\n",
    "\n",
    "Answer(Q6):\n",
    "\n",
    "Complex numbers are created from two real numbers. You can create it directly or you can use the complex function.\n",
    "\n",
    "It is written in the form of (x + yj) where x and y are real numbers and j is an imaginary number which is the square root of -1.\n",
    "\n",
    "the syntax of the complex function:\n",
    "\n"
   ]
  },
  {
   "cell_type": "code",
   "execution_count": 13,
   "id": "cb48b9c6-5327-45ef-9a9a-1280b08b8cf0",
   "metadata": {},
   "outputs": [
    {
     "name": "stdout",
     "output_type": "stream",
     "text": [
      "Real part: 3.0\n",
      "Imaginary part: 4.0\n",
      "Conjugate value: (3-4j)\n"
     ]
    }
   ],
   "source": [
    "z  = 3 + 4j\n",
    "\n",
    "print(\"Real part:\", z.real)\n",
    "# Real part: 3.0 \n",
    "\n",
    "print(\"Imaginary part:\", z.imag)\n",
    "# Imaginary part: 4.0\n",
    "\n",
    "print(\"Conjugate value:\", z.conjugate())\n",
    "# Conjugate value: 3 - 4j"
   ]
  },
  {
   "cell_type": "markdown",
   "id": "02a99bdb-717d-48b9-8846-0ceeab9f6954",
   "metadata": {},
   "source": [
    "Q7. What is the correct way to declare a variable named age and assign the value 25 to it?\n",
    "\n",
    "Answer(Q7):\n"
   ]
  },
  {
   "cell_type": "code",
   "execution_count": 15,
   "id": "fc50559b-aaa0-4a51-ae6f-780923f358c5",
   "metadata": {},
   "outputs": [
    {
     "name": "stdout",
     "output_type": "stream",
     "text": [
      "25\n"
     ]
    }
   ],
   "source": [
    "age = 25\n",
    "print(age)"
   ]
  },
  {
   "cell_type": "markdown",
   "id": "92132068-d26f-4f8a-9634-238a2a863d1e",
   "metadata": {},
   "source": [
    "Q8. Declare a variable named price and assign the value 9.99 to it. What data type does this variable\n",
    "belong to?\n",
    "\n",
    "Answer(Q8):\n"
   ]
  },
  {
   "cell_type": "code",
   "execution_count": 16,
   "id": "3695a383-1894-4418-b89b-34478bcea661",
   "metadata": {},
   "outputs": [
    {
     "data": {
      "text/plain": [
       "float"
      ]
     },
     "execution_count": 16,
     "metadata": {},
     "output_type": "execute_result"
    }
   ],
   "source": [
    "price = 9.99\n",
    "type(price) # float"
   ]
  },
  {
   "cell_type": "markdown",
   "id": "3855c0d5-7dc6-4e4f-809f-9d0d0954da76",
   "metadata": {},
   "source": [
    "Q9. Create a variable named name and assign your full name to it as a string. How would you print the value of this variable?\n",
    "\n",
    "Answer(Q9):\n"
   ]
  },
  {
   "cell_type": "code",
   "execution_count": 17,
   "id": "38edd875-969d-412d-b4aa-4e4c20135ec9",
   "metadata": {},
   "outputs": [
    {
     "name": "stdout",
     "output_type": "stream",
     "text": [
      "My name is Shunmuga Priya\n"
     ]
    }
   ],
   "source": [
    "name = \"Shunmuga Priya\"\n",
    "print(f\"My name is {name}\")"
   ]
  },
  {
   "cell_type": "markdown",
   "id": "199b72c2-6eb9-41d7-be89-76cb3d34baa5",
   "metadata": {},
   "source": [
    "Q10. Given the string \"Hello, World!\", extract the substring \"World\".\n",
    "\n",
    "Answer(Q10):\n"
   ]
  },
  {
   "cell_type": "code",
   "execution_count": 19,
   "id": "1388d11b-d593-4056-b0cd-00341a8e25b8",
   "metadata": {},
   "outputs": [
    {
     "name": "stdout",
     "output_type": "stream",
     "text": [
      "Extracted the substring is World\n"
     ]
    }
   ],
   "source": [
    "string1 = \"Hello, World!\"\n",
    "output_str = string1[7:12]\n",
    "print(f\"Extracted the substring is {output_str}\")"
   ]
  },
  {
   "cell_type": "markdown",
   "id": "85b73288-08f5-4f37-b800-a874f0fd9524",
   "metadata": {},
   "source": [
    "Q11. Create a variable named \"is_student\" and assign it a boolean value indicating whether you are\n",
    "currently a student or not.\n",
    "\n",
    "Answer(Q11):\n"
   ]
  },
  {
   "cell_type": "code",
   "execution_count": 20,
   "id": "206caa5a-0cd6-44bf-a9a1-deb8b52ff407",
   "metadata": {},
   "outputs": [
    {
     "name": "stdout",
     "output_type": "stream",
     "text": [
      "I'm a student\n"
     ]
    }
   ],
   "source": [
    "is_student = True\n",
    "if is_student:\n",
    "    print(\"I'm a student\")\n",
    "else:\n",
    "    print(\"I'm not a student\")"
   ]
  }
 ],
 "metadata": {
  "kernelspec": {
   "display_name": "Python 3 (ipykernel)",
   "language": "python",
   "name": "python3"
  },
  "language_info": {
   "codemirror_mode": {
    "name": "ipython",
    "version": 3
   },
   "file_extension": ".py",
   "mimetype": "text/x-python",
   "name": "python",
   "nbconvert_exporter": "python",
   "pygments_lexer": "ipython3",
   "version": "3.10.8"
  }
 },
 "nbformat": 4,
 "nbformat_minor": 5
}
