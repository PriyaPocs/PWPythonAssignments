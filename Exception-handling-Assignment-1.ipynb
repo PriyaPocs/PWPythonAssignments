{
 "cells": [
  {
   "cell_type": "markdown",
   "id": "46d840d2-1195-4244-8fb8-ac2b98b59a69",
   "metadata": {},
   "source": [
    "Q1. What is Exception in python? Write the difference between Exceptions and syntax errors\n",
    "\n",
    "\n",
    "Answer(Q1):\n",
    "\n",
    "An exception is a condition that interrupts the normal flow of the program.\n",
    "\n",
    "An Exception is an event that occurs during the program execution and disrupts the normal flow of the program's execution. \n",
    "\n",
    "Errors mostly happen at compile-time like syntax error; however it can happen at runtime as well. Whereas an Exception occurs at runtime (checked \n",
    "\n",
    "exceptions can be detected at compile time). Both Error and Exception have the same parent class as Throwable."
   ]
  },
  {
   "cell_type": "markdown",
   "id": "ac6d050f-bfca-4086-86bc-a10b9a27428a",
   "metadata": {},
   "source": [
    "Q2. What hppens when an exception is not hndled? Explain with n exmple\n",
    "\n",
    "Answer(Q2):\n",
    "\n",
    "When an exception occurred, if we don't handle it, the program terminates abruptly and the code past the line that caused the exception will not \n",
    "\n",
    "get executed.\n",
    "\n",
    "\n"
   ]
  },
  {
   "cell_type": "code",
   "execution_count": 1,
   "id": "d59c1ea7-7e1d-41cb-98d2-ff4c84f2b1da",
   "metadata": {},
   "outputs": [
    {
     "ename": "ZeroDivisionError",
     "evalue": "division by zero",
     "output_type": "error",
     "traceback": [
      "\u001b[0;31m---------------------------------------------------------------------------\u001b[0m",
      "\u001b[0;31mZeroDivisionError\u001b[0m                         Traceback (most recent call last)",
      "Cell \u001b[0;32mIn[1], line 4\u001b[0m\n\u001b[1;32m      1\u001b[0m marks \u001b[38;5;241m=\u001b[39m \u001b[38;5;241m10000\u001b[39m\n\u001b[1;32m      3\u001b[0m \u001b[38;5;66;03m# perform division with 0\u001b[39;00m\n\u001b[0;32m----> 4\u001b[0m a \u001b[38;5;241m=\u001b[39m \u001b[43mmarks\u001b[49m\u001b[43m \u001b[49m\u001b[38;5;241;43m/\u001b[39;49m\u001b[43m \u001b[49m\u001b[38;5;241;43m0\u001b[39;49m\n\u001b[1;32m      5\u001b[0m \u001b[38;5;28mprint\u001b[39m(a)\n",
      "\u001b[0;31mZeroDivisionError\u001b[0m: division by zero"
     ]
    }
   ],
   "source": [
    "marks = 10000\n",
    "\n",
    "# perform division with 0\n",
    "a = marks / 0\n",
    "print(a)\n"
   ]
  },
  {
   "cell_type": "code",
   "execution_count": 5,
   "id": "8a131d30-dc7b-4f64-98b1-c01fcdf5a701",
   "metadata": {},
   "outputs": [
    {
     "name": "stdout",
     "output_type": "stream",
     "text": [
      "division by zero\n",
      "2000.0\n",
      "10000\n"
     ]
    }
   ],
   "source": [
    "marks = 10000\n",
    "try:\n",
    "    # perform division with 0\n",
    "    a = marks / 0\n",
    "except Exception as e:\n",
    "    print(e)\n",
    "print(a)\n",
    "print(marks)\n"
   ]
  },
  {
   "cell_type": "markdown",
   "id": "addfc356-fc25-4416-a9b7-aed3449dd862",
   "metadata": {},
   "source": [
    "Q3. Which Python statements are used to catch and handle exceptions? Explin with an exmple?\n",
    "\n",
    "Answer(Q3):\n",
    "\n",
    "The try and except block in Python is used to catch and handle exceptions. Python executes code following the try statement as a “normal” part of \n",
    "\n",
    "the program. The code that follows the except statement is the program's response to any exceptions in the preceding try clause.\n",
    "\n",
    "\n",
    "try:\n",
    "    # code that may cause exception\n",
    "except:\n",
    "    # code to run when exception occurs"
   ]
  },
  {
   "cell_type": "code",
   "execution_count": 4,
   "id": "85e9bc6b-4f6d-4848-80d0-ce133e403f61",
   "metadata": {},
   "outputs": [
    {
     "name": "stdout",
     "output_type": "stream",
     "text": [
      "Error: Denominator cannot be 0.\n"
     ]
    }
   ],
   "source": [
    "try:\n",
    "    numerator = 10\n",
    "    denominator = 0\n",
    "\n",
    "    result = numerator/denominator\n",
    "\n",
    "    print(result)\n",
    "except:\n",
    "    print(\"Error: Division by Zero.\")\n",
    "\n",
    "# Output: Error: Denominator cannot be 0. "
   ]
  },
  {
   "cell_type": "markdown",
   "id": "83fb6c06-c7db-469b-bfad-baebc28fcf1d",
   "metadata": {},
   "source": [
    "Q4. Explain with an example:\n",
    "\n",
    "a.try and else\n",
    "\n",
    "b.finally\n",
    "\n",
    "c.raise\n",
    "\n",
    "Answer(Q4):\n",
    "\n",
    "a. The try block will test a block of code for errors. \n",
    "The except block lets you handle the error. \n",
    "The else block executes code when there is no error. \n",
    "\n",
    "b. The finally block will execute code, regardless of the result of the try and except blocks.\n",
    "\n",
    "c. raise\n",
    "\n",
    "d. The raise keyword is used to raise an exception.\n"
   ]
  },
  {
   "cell_type": "code",
   "execution_count": 11,
   "id": "5724cadc-1096-469a-b53a-e3d1473cb11f",
   "metadata": {},
   "outputs": [
    {
     "name": "stdout",
     "output_type": "stream",
     "text": [
      "division by zero\n",
      "10000\n"
     ]
    }
   ],
   "source": [
    "# Ex. for Try, Except and else\n",
    "marks = 10000\n",
    "try:\n",
    "    # perform division with 0\n",
    "    a = marks / 0\n",
    "except Exception as e:\n",
    "    print(e)\n",
    "else:    \n",
    "    print(a)\n",
    "finally:    \n",
    "    print(marks)"
   ]
  },
  {
   "cell_type": "code",
   "execution_count": 10,
   "id": "fabf224e-4bba-4bc6-8bba-688edba37827",
   "metadata": {},
   "outputs": [
    {
     "ename": "ValueError",
     "evalue": "String can't be changed into integer",
     "output_type": "error",
     "traceback": [
      "\u001b[0;31m---------------------------------------------------------------------------\u001b[0m",
      "\u001b[0;31mValueError\u001b[0m                                Traceback (most recent call last)",
      "Cell \u001b[0;32mIn[10], line 5\u001b[0m\n\u001b[1;32m      4\u001b[0m \u001b[38;5;28;01mtry\u001b[39;00m:\n\u001b[0;32m----> 5\u001b[0m \tnum \u001b[38;5;241m=\u001b[39m \u001b[38;5;28;43mint\u001b[39;49m\u001b[43m(\u001b[49m\u001b[43ms\u001b[49m\u001b[43m)\u001b[49m\n\u001b[1;32m      6\u001b[0m \u001b[38;5;28;01mexcept\u001b[39;00m \u001b[38;5;167;01mValueError\u001b[39;00m:\n",
      "\u001b[0;31mValueError\u001b[0m: invalid literal for int() with base 10: 'apple'",
      "\nDuring handling of the above exception, another exception occurred:\n",
      "\u001b[0;31mValueError\u001b[0m                                Traceback (most recent call last)",
      "Cell \u001b[0;32mIn[10], line 7\u001b[0m\n\u001b[1;32m      5\u001b[0m \tnum \u001b[38;5;241m=\u001b[39m \u001b[38;5;28mint\u001b[39m(s)\n\u001b[1;32m      6\u001b[0m \u001b[38;5;28;01mexcept\u001b[39;00m \u001b[38;5;167;01mValueError\u001b[39;00m:\n\u001b[0;32m----> 7\u001b[0m \t\u001b[38;5;28;01mraise\u001b[39;00m \u001b[38;5;167;01mValueError\u001b[39;00m(\u001b[38;5;124m\"\u001b[39m\u001b[38;5;124mString can\u001b[39m\u001b[38;5;124m'\u001b[39m\u001b[38;5;124mt be changed into integer\u001b[39m\u001b[38;5;124m\"\u001b[39m)\n",
      "\u001b[0;31mValueError\u001b[0m: String can't be changed into integer"
     ]
    }
   ],
   "source": [
    "#Ex for raise\n",
    "s = 'apple'\n",
    "\n",
    "try:\n",
    "\tnum = int(s)\n",
    "except ValueError:\n",
    "\traise ValueError(\"String can't be changed into integer\")\n"
   ]
  },
  {
   "cell_type": "markdown",
   "id": "352c9439-e218-49c3-9c0e-417f7ccb7dab",
   "metadata": {},
   "source": [
    "Q5. What are Custom Exceptions in python? Why do we need Custom Exceptions? Explain with an example.\n",
    "\n",
    "Answer(Q5):\n",
    "\n",
    "Custom Exceptions in python are User-defind exceptions , not built-in-exception. \n",
    "\n",
    "we can define custom exceptions by creating a new class that is derived from the built-in Exception class.\n",
    "\n",
    "Here's the syntax to define custom exceptions,\n",
    "\n",
    "class CustomError(Exception):\n",
    "    ...\n",
    "    pass\n",
    "\n",
    "try:\n",
    "   ...\n",
    "\n",
    "except CustomError:\n",
    "    ...\n",
    "    \n",
    "Built-in exceptions offer information about Python-related problems, and custom exceptions will add information about project-\n",
    "\n",
    "related problems. That way, we can design our code (and traceback, if an exception is raised) in a way that combines Python\n",
    "\n",
    "code with the language of the project.    "
   ]
  },
  {
   "cell_type": "code",
   "execution_count": null,
   "id": "0735d4be-ef8d-4f05-8b6e-6a82d19e067f",
   "metadata": {},
   "outputs": [
    {
     "name": "stdin",
     "output_type": "stream",
     "text": [
      "Enter a number:  7\n"
     ]
    },
    {
     "name": "stdout",
     "output_type": "stream",
     "text": [
      "Exception occurred: Invalid Age\n"
     ]
    }
   ],
   "source": [
    "# Ex. for raise with custom exception\n",
    "class InvalidAgeException(Exception):\n",
    "    \"Raised when the input value is less than 18\"\n",
    "    pass\n",
    "\n",
    "# you need to guess this number\n",
    "number = 18\n",
    "\n",
    "try:\n",
    "    input_num = int(input(\"Enter a number: \"))\n",
    "    if input_num < number:\n",
    "        raise InvalidAgeException\n",
    "    else:\n",
    "        print(\"Eligible to Vote\")\n",
    "        \n",
    "except InvalidAgeException:\n",
    "    print(\"Exception occurred: Invalid Age\")"
   ]
  },
  {
   "cell_type": "markdown",
   "id": "43607acf-ff36-44b7-b437-bebe55e5cd90",
   "metadata": {},
   "source": [
    "Q6. Create a custom exception class. Use this class to handle an exception."
   ]
  },
  {
   "cell_type": "code",
   "execution_count": 17,
   "id": "192c2964-d550-4c9f-a439-970f0744deb0",
   "metadata": {},
   "outputs": [
    {
     "name": "stdin",
     "output_type": "stream",
     "text": [
      "Enter  Balance amount:  1000\n",
      "Enter amt to  Withdraw:  502\n"
     ]
    },
    {
     "name": "stdout",
     "output_type": "stream",
     "text": [
      "Current available balance is  498\n"
     ]
    }
   ],
   "source": [
    "#Answer(Q6)\n",
    "\n",
    "# Ex. for raise with custom exception\n",
    "class BalanceNotEnoughException(Exception):\n",
    "    \"Raised when the balance value is less than withdrawal amount\"\n",
    "    pass\n",
    "\n",
    "try:\n",
    "    balance = int(input(\"Enter  Balance amount: \"))\n",
    "    withdraw = int(input(\"Enter amt to  Withdraw: \"))\n",
    "    if balance < withdraw:\n",
    "        raise BalanceNotEnoughException\n",
    "    else:\n",
    "        balance -= withdraw\n",
    "        print(\"Current available balance is \",balance)\n",
    "        \n",
    "except BalanceNotEnoughException:\n",
    "    print(\"Exception occurred: Not enough balance to withdraw\")"
   ]
  }
 ],
 "metadata": {
  "kernelspec": {
   "display_name": "Python 3 (ipykernel)",
   "language": "python",
   "name": "python3"
  },
  "language_info": {
   "codemirror_mode": {
    "name": "ipython",
    "version": 3
   },
   "file_extension": ".py",
   "mimetype": "text/x-python",
   "name": "python",
   "nbconvert_exporter": "python",
   "pygments_lexer": "ipython3",
   "version": "3.10.8"
  }
 },
 "nbformat": 4,
 "nbformat_minor": 5
}
