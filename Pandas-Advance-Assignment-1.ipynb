{
 "cells": [
  {
   "cell_type": "markdown",
   "id": "52d2a310-9bd7-49d2-a3aa-2bfe8d6c0ac8",
   "metadata": {},
   "source": [
    "Q1. List any five functions of the pandas library with execution.\n",
    "\n",
    "\n",
    "Answer(Q1):\n",
    "\n"
   ]
  },
  {
   "cell_type": "code",
   "execution_count": 2,
   "id": "12179ed1-6ba3-47bb-b482-6dfca8647739",
   "metadata": {},
   "outputs": [],
   "source": [
    "import pandas as pd"
   ]
  },
  {
   "cell_type": "code",
   "execution_count": 3,
   "id": "cf3acb25-99df-4c28-924b-d60fd0305c4b",
   "metadata": {},
   "outputs": [
    {
     "name": "stdout",
     "output_type": "stream",
     "text": [
      "                  Name Code\n",
      "0          Afghanistan   AF\n",
      "1        Åland Islands   AX\n",
      "2              Albania   AL\n",
      "3              Algeria   DZ\n",
      "4       American Samoa   AS\n",
      "..                 ...  ...\n",
      "244  Wallis and Futuna   WF\n",
      "245     Western Sahara   EH\n",
      "246              Yemen   YE\n",
      "247             Zambia   ZM\n",
      "248           Zimbabwe   ZW\n",
      "\n",
      "[249 rows x 2 columns]\n"
     ]
    }
   ],
   "source": [
    "df = pd.read_csv(\"https://raw.githubusercontent.com/PriyaPocs/PWPythonAssignments/main/country_code.csv\")\n",
    "print(df)"
   ]
  },
  {
   "cell_type": "code",
   "execution_count": 5,
   "id": "9becb0a9-6085-41bb-af6f-77c19bcbfbb3",
   "metadata": {},
   "outputs": [
    {
     "data": {
      "text/plain": [
       "(249, 2)"
      ]
     },
     "execution_count": 5,
     "metadata": {},
     "output_type": "execute_result"
    }
   ],
   "source": [
    "df.shape"
   ]
  },
  {
   "cell_type": "code",
   "execution_count": 6,
   "id": "3a6404a1-49cd-40b9-a790-d7399215847b",
   "metadata": {},
   "outputs": [
    {
     "data": {
      "text/html": [
       "<div>\n",
       "<style scoped>\n",
       "    .dataframe tbody tr th:only-of-type {\n",
       "        vertical-align: middle;\n",
       "    }\n",
       "\n",
       "    .dataframe tbody tr th {\n",
       "        vertical-align: top;\n",
       "    }\n",
       "\n",
       "    .dataframe thead th {\n",
       "        text-align: right;\n",
       "    }\n",
       "</style>\n",
       "<table border=\"1\" class=\"dataframe\">\n",
       "  <thead>\n",
       "    <tr style=\"text-align: right;\">\n",
       "      <th></th>\n",
       "      <th>Name</th>\n",
       "      <th>Code</th>\n",
       "    </tr>\n",
       "  </thead>\n",
       "  <tbody>\n",
       "    <tr>\n",
       "      <th>count</th>\n",
       "      <td>249</td>\n",
       "      <td>246</td>\n",
       "    </tr>\n",
       "    <tr>\n",
       "      <th>unique</th>\n",
       "      <td>249</td>\n",
       "      <td>246</td>\n",
       "    </tr>\n",
       "    <tr>\n",
       "      <th>top</th>\n",
       "      <td>Afghanistan</td>\n",
       "      <td>AF</td>\n",
       "    </tr>\n",
       "    <tr>\n",
       "      <th>freq</th>\n",
       "      <td>1</td>\n",
       "      <td>1</td>\n",
       "    </tr>\n",
       "  </tbody>\n",
       "</table>\n",
       "</div>"
      ],
      "text/plain": [
       "               Name Code\n",
       "count           249  246\n",
       "unique          249  246\n",
       "top     Afghanistan   AF\n",
       "freq              1    1"
      ]
     },
     "execution_count": 6,
     "metadata": {},
     "output_type": "execute_result"
    }
   ],
   "source": [
    "df.describe()"
   ]
  },
  {
   "cell_type": "code",
   "execution_count": 7,
   "id": "36067051-b8f5-4373-bbfb-34a307d3e8e7",
   "metadata": {},
   "outputs": [
    {
     "name": "stdout",
     "output_type": "stream",
     "text": [
      "<class 'pandas.core.frame.DataFrame'>\n",
      "RangeIndex: 249 entries, 0 to 248\n",
      "Data columns (total 2 columns):\n",
      " #   Column  Non-Null Count  Dtype \n",
      "---  ------  --------------  ----- \n",
      " 0   Name    249 non-null    object\n",
      " 1   Code    246 non-null    object\n",
      "dtypes: object(2)\n",
      "memory usage: 4.0+ KB\n"
     ]
    }
   ],
   "source": [
    "df.info()"
   ]
  },
  {
   "cell_type": "code",
   "execution_count": 8,
   "id": "1d0a4dad-4119-41da-b45d-13e58cc01a6e",
   "metadata": {},
   "outputs": [
    {
     "data": {
      "text/plain": [
       "<bound method NDFrame._add_numeric_operations.<locals>.any of       Name   Code\n",
       "0    False  False\n",
       "1    False  False\n",
       "2    False  False\n",
       "3    False  False\n",
       "4    False  False\n",
       "..     ...    ...\n",
       "244  False  False\n",
       "245  False  False\n",
       "246  False  False\n",
       "247  False  False\n",
       "248  False  False\n",
       "\n",
       "[249 rows x 2 columns]>"
      ]
     },
     "execution_count": 8,
     "metadata": {},
     "output_type": "execute_result"
    }
   ],
   "source": [
    "df.isna().any"
   ]
  },
  {
   "cell_type": "code",
   "execution_count": 9,
   "id": "f2059186-b1d0-4b0d-a7d6-038a280d7fa8",
   "metadata": {},
   "outputs": [
    {
     "data": {
      "text/plain": [
       "Name    0\n",
       "Code    3\n",
       "dtype: int64"
      ]
     },
     "execution_count": 9,
     "metadata": {},
     "output_type": "execute_result"
    }
   ],
   "source": [
    "df.isnull().sum()"
   ]
  },
  {
   "cell_type": "code",
   "execution_count": 10,
   "id": "f3d20291-748f-43b6-b6a1-b0c50328066f",
   "metadata": {},
   "outputs": [
    {
     "data": {
      "text/plain": [
       "Index(['Name', 'Code'], dtype='object')"
      ]
     },
     "execution_count": 10,
     "metadata": {},
     "output_type": "execute_result"
    }
   ],
   "source": [
    "df.columns"
   ]
  },
  {
   "cell_type": "markdown",
   "id": "1e412b3d-6bfb-4621-9c96-1d181a6c6f09",
   "metadata": {},
   "source": [
    "Q2. Given a Pandas DataFrame df with columns 'A', 'B', and 'C', write a Python function to re-index the DataFrame with a new index that starts from 1 and increments by 2 for each row.\n",
    "\n",
    "Answer(Q2):\n",
    "\n"
   ]
  },
  {
   "cell_type": "code",
   "execution_count": 18,
   "id": "a199024a-2d84-467c-8e9a-cdbc4a65bce7",
   "metadata": {},
   "outputs": [
    {
     "name": "stdout",
     "output_type": "stream",
     "text": [
      "     A    B    C\n",
      "1  NaN  NaN  NaN\n",
      "2  NaN  NaN  NaN\n",
      "3  NaN  NaN  NaN\n",
      "4  NaN  NaN  NaN\n",
      "5  NaN  NaN  NaN\n",
      "\n",
      "\n",
      "Dataframe after reindexing rows: \n",
      "\n"
     ]
    },
    {
     "data": {
      "text/html": [
       "<div>\n",
       "<style scoped>\n",
       "    .dataframe tbody tr th:only-of-type {\n",
       "        vertical-align: middle;\n",
       "    }\n",
       "\n",
       "    .dataframe tbody tr th {\n",
       "        vertical-align: top;\n",
       "    }\n",
       "\n",
       "    .dataframe thead th {\n",
       "        text-align: right;\n",
       "    }\n",
       "</style>\n",
       "<table border=\"1\" class=\"dataframe\">\n",
       "  <thead>\n",
       "    <tr style=\"text-align: right;\">\n",
       "      <th></th>\n",
       "      <th>A</th>\n",
       "      <th>B</th>\n",
       "      <th>C</th>\n",
       "    </tr>\n",
       "  </thead>\n",
       "  <tbody>\n",
       "    <tr>\n",
       "      <th>1</th>\n",
       "      <td>NaN</td>\n",
       "      <td>NaN</td>\n",
       "      <td>NaN</td>\n",
       "    </tr>\n",
       "    <tr>\n",
       "      <th>3</th>\n",
       "      <td>NaN</td>\n",
       "      <td>NaN</td>\n",
       "      <td>NaN</td>\n",
       "    </tr>\n",
       "    <tr>\n",
       "      <th>5</th>\n",
       "      <td>NaN</td>\n",
       "      <td>NaN</td>\n",
       "      <td>NaN</td>\n",
       "    </tr>\n",
       "    <tr>\n",
       "      <th>7</th>\n",
       "      <td>NaN</td>\n",
       "      <td>NaN</td>\n",
       "      <td>NaN</td>\n",
       "    </tr>\n",
       "    <tr>\n",
       "      <th>9</th>\n",
       "      <td>NaN</td>\n",
       "      <td>NaN</td>\n",
       "      <td>NaN</td>\n",
       "    </tr>\n",
       "  </tbody>\n",
       "</table>\n",
       "</div>"
      ],
      "text/plain": [
       "     A    B    C\n",
       "1  NaN  NaN  NaN\n",
       "3  NaN  NaN  NaN\n",
       "5  NaN  NaN  NaN\n",
       "7  NaN  NaN  NaN\n",
       "9  NaN  NaN  NaN"
      ]
     },
     "execution_count": 18,
     "metadata": {},
     "output_type": "execute_result"
    }
   ],
   "source": [
    "# import numpy and pandas module\n",
    "import pandas as pd\n",
    "\n",
    "column=['A','B','C']\n",
    "index=[1,2,3,4,5]\n",
    "\n",
    "# create a dataframe of random values of array\n",
    "df1 = pd.DataFrame(columns=column,index=index)\n",
    "\n",
    "print(df1)\n",
    "\n",
    "print('\\n\\nDataframe after reindexing rows: \\n')\n",
    "df1.reindex(list(range(1,10,2)))\n"
   ]
  },
  {
   "cell_type": "markdown",
   "id": "ff5f97d5-74d3-4c35-a5b9-6522494e68d4",
   "metadata": {},
   "source": [
    "Q3. You have a Pandas DataFrame df with a column named 'Values'. Write a Python function that iterates over the DataFrame and calculates the sum of the first three values in the 'Values' column. The function should print the sum to the console.\n",
    "\n",
    "For example, if the 'Values' column of df contains the values [10, 20, 30, 40, 50], your function should calculate and print the sum of the first three values, which is 60.\n",
    "\n",
    "Answer(Q3):"
   ]
  },
  {
   "cell_type": "code",
   "execution_count": 23,
   "id": "79aad9a8-d922-4d3a-8476-038bca73441d",
   "metadata": {},
   "outputs": [
    {
     "data": {
      "text/plain": [
       "Values    150\n",
       "dtype: int64"
      ]
     },
     "execution_count": 29,
     "metadata": {},
     "output_type": "execute_result"
    }
   ],
   "source": [
    "import pandas as pd\n",
    "\n",
    "list1 = [10, 20, 30, 40, 50]\n",
    "column = \"Values\"\n",
    "df1 = pd.DataFrame(list1)\n",
    "df1.columns = [\"Values\"]\n",
    "df1"
   ]
  },
  {
   "cell_type": "code",
   "execution_count": 36,
   "id": "66c7326d-5b8f-47cd-8797-785702340d27",
   "metadata": {},
   "outputs": [
    {
     "name": "stdout",
     "output_type": "stream",
     "text": [
      "the sum of the first three values \n",
      "\n",
      "Values    60\n",
      "dtype: int64\n"
     ]
    }
   ],
   "source": [
    "sum1 = df1[0:3].sum()\n",
    "print(\"the sum of the first three values \\n\")\n",
    "print(sum1)"
   ]
  },
  {
   "cell_type": "markdown",
   "id": "f171bd07-4872-42d3-a1e9-74d0e0f346a8",
   "metadata": {},
   "source": [
    "Q4. Given a Pandas DataFrame df with a column 'Text', write a Python function to create a new column 'Word_Count' that contains the number of words in each row of the 'Text' column.\n",
    "\n",
    "\n",
    "Answer(Q4):"
   ]
  },
  {
   "cell_type": "code",
   "execution_count": 44,
   "id": "9ea04998-c2bf-49a3-817c-9f3e7ec8672d",
   "metadata": {},
   "outputs": [
    {
     "data": {
      "text/html": [
       "<div>\n",
       "<style scoped>\n",
       "    .dataframe tbody tr th:only-of-type {\n",
       "        vertical-align: middle;\n",
       "    }\n",
       "\n",
       "    .dataframe tbody tr th {\n",
       "        vertical-align: top;\n",
       "    }\n",
       "\n",
       "    .dataframe thead th {\n",
       "        text-align: right;\n",
       "    }\n",
       "</style>\n",
       "<table border=\"1\" class=\"dataframe\">\n",
       "  <thead>\n",
       "    <tr style=\"text-align: right;\">\n",
       "      <th></th>\n",
       "      <th>Text</th>\n",
       "      <th>totalwords</th>\n",
       "    </tr>\n",
       "  </thead>\n",
       "  <tbody>\n",
       "    <tr>\n",
       "      <th>0</th>\n",
       "      <td>Python is my favourite programming language</td>\n",
       "      <td>6</td>\n",
       "    </tr>\n",
       "  </tbody>\n",
       "</table>\n",
       "</div>"
      ],
      "text/plain": [
       "                                          Text  totalwords\n",
       "0  Python is my favourite programming language           6"
      ]
     },
     "execution_count": 44,
     "metadata": {},
     "output_type": "execute_result"
    }
   ],
   "source": [
    "import pandas as pd\n",
    "\n",
    "given_text = \"Python is my favourite programming language\"\n",
    "df1 = pd.DataFrame([given_text])\n",
    "df1.columns = ['Text']\n",
    "df1\n",
    "df1['totalwords'] = df1['Text'].str.count(' ') + 1\n",
    "df1\n"
   ]
  },
  {
   "cell_type": "markdown",
   "id": "63a9f5cb-1484-4a0a-9dcf-0feaca1e9ec4",
   "metadata": {},
   "source": [
    "Q5. How are DataFrame.size() and DataFrame.shape() different?\n",
    "\n",
    "Answer(Q5):\n"
   ]
  },
  {
   "cell_type": "code",
   "execution_count": 1,
   "id": "4bef8253-acca-4e75-9430-3586189fd4f5",
   "metadata": {},
   "outputs": [],
   "source": [
    "import pandas as pd"
   ]
  },
  {
   "cell_type": "code",
   "execution_count": 2,
   "id": "35562186-8313-43fb-93ba-ceac0b188f63",
   "metadata": {},
   "outputs": [
    {
     "name": "stdout",
     "output_type": "stream",
     "text": [
      "                  Name Code\n",
      "0          Afghanistan   AF\n",
      "1        Åland Islands   AX\n",
      "2              Albania   AL\n",
      "3              Algeria   DZ\n",
      "4       American Samoa   AS\n",
      "..                 ...  ...\n",
      "244  Wallis and Futuna   WF\n",
      "245     Western Sahara   EH\n",
      "246              Yemen   YE\n",
      "247             Zambia   ZM\n",
      "248           Zimbabwe   ZW\n",
      "\n",
      "[249 rows x 2 columns]\n"
     ]
    }
   ],
   "source": [
    "df = pd.read_csv(\"https://raw.githubusercontent.com/PriyaPocs/PWPythonAssignments/main/country_code.csv\")\n",
    "print(df)"
   ]
  },
  {
   "cell_type": "code",
   "execution_count": 7,
   "id": "78661cac-28ae-4b1d-8454-beb4e5f795d8",
   "metadata": {},
   "outputs": [
    {
     "name": "stdout",
     "output_type": "stream",
     "text": [
      "Size =  498\n",
      "shape =  (249, 2)\n"
     ]
    }
   ],
   "source": [
    "# Returns size of dataframe/series which is equivalent to total number of elements. That is rows x columns.\n",
    "size = df.size\n",
    "  \n",
    "# printing size \n",
    "print(\"Size = \",size)\n",
    "\n",
    "# Returns tuple of shape (Rows, columns) of dataframe/series\n",
    "shape = df.shape\n",
    "print(\"shape = \",shape)\n"
   ]
  },
  {
   "cell_type": "markdown",
   "id": "e8511b22-d6a4-46eb-bb10-1c2153daa1f3",
   "metadata": {},
   "source": [
    "Q6. Which function of pandas do we use to read an excel file?\n",
    "\n",
    "Answer(Q6):\n",
    "\n",
    "read_excel('filename.xlsx') function of pandas is used to read an excel file."
   ]
  },
  {
   "cell_type": "code",
   "execution_count": null,
   "id": "13c5670c-9f16-4d7f-ac8b-b5e364f24603",
   "metadata": {},
   "outputs": [],
   "source": [
    "\n",
    "# import pandas as pd\n",
    "# pd.read_excel('filename.xlsx')\n",
    "\n",
    "# print(df)\n",
    "\n"
   ]
  },
  {
   "cell_type": "markdown",
   "id": "05cb5a90-a865-4e9a-a87c-d9af625bbcd3",
   "metadata": {},
   "source": [
    "Q7. You have a Pandas DataFrame df that contains a column named 'Email' that contains email addresses in the format 'username@domain.com'. Write a Python function that creates a new column 'Username' in df that contains only the username part of each email address.\n",
    "\n",
    "The username is the part of the email address that appears before the '@' symbol. For example, if the email address is 'john.doe@example.com', the 'Username' column should contain 'john.doe'. Your function should extract the username from each email address and store it in the new 'Username' column.\n",
    "\n",
    "Answer(Q7):"
   ]
  },
  {
   "cell_type": "code",
   "execution_count": 6,
   "id": "3471b043-92e7-4a62-a46a-0fc5a85be33d",
   "metadata": {},
   "outputs": [
    {
     "data": {
      "text/html": [
       "<div>\n",
       "<style scoped>\n",
       "    .dataframe tbody tr th:only-of-type {\n",
       "        vertical-align: middle;\n",
       "    }\n",
       "\n",
       "    .dataframe tbody tr th {\n",
       "        vertical-align: top;\n",
       "    }\n",
       "\n",
       "    .dataframe thead th {\n",
       "        text-align: right;\n",
       "    }\n",
       "</style>\n",
       "<table border=\"1\" class=\"dataframe\">\n",
       "  <thead>\n",
       "    <tr style=\"text-align: right;\">\n",
       "      <th></th>\n",
       "      <th>Email</th>\n",
       "      <th>Username</th>\n",
       "    </tr>\n",
       "  </thead>\n",
       "  <tbody>\n",
       "    <tr>\n",
       "      <th>0</th>\n",
       "      <td>john.doe@example.com</td>\n",
       "      <td>john.doe</td>\n",
       "    </tr>\n",
       "    <tr>\n",
       "      <th>1</th>\n",
       "      <td>cooper@abc.com</td>\n",
       "      <td>cooper</td>\n",
       "    </tr>\n",
       "    <tr>\n",
       "      <th>2</th>\n",
       "      <td>james@gmail.com</td>\n",
       "      <td>james</td>\n",
       "    </tr>\n",
       "    <tr>\n",
       "      <th>3</th>\n",
       "      <td>michiel@spark.com</td>\n",
       "      <td>michiel</td>\n",
       "    </tr>\n",
       "  </tbody>\n",
       "</table>\n",
       "</div>"
      ],
      "text/plain": [
       "                  Email  Username\n",
       "0  john.doe@example.com  john.doe\n",
       "1        cooper@abc.com    cooper\n",
       "2       james@gmail.com     james\n",
       "3     michiel@spark.com   michiel"
      ]
     },
     "execution_count": 6,
     "metadata": {},
     "output_type": "execute_result"
    }
   ],
   "source": [
    "import pandas as pd\n",
    "\n",
    "email_list = ['john.doe@example.com','cooper@abc.com','james@gmail.com','michiel@spark.com']\n",
    "\n",
    "df1 = pd.DataFrame(email_list)\n",
    "df1.columns = ['Email']\n",
    "df1['Username'] = df1['Email'].str.split('@').str[0]\n",
    "df1\n"
   ]
  },
  {
   "cell_type": "markdown",
   "id": "51224c0a-7af4-4342-8773-7c5cc01dfa84",
   "metadata": {},
   "source": [
    "Q8. You have a Pandas DataFrame df with columns 'A', 'B', and 'C'. Write a Python function that selects all rows where the value in column 'A' is greater than 5 and the value in column 'B' is less than 10. The function should return a new DataFrame that contains only the selected rows.\n",
    "\n",
    "For example, if df contains the following values:\n",
    " ABC\n",
    "\n",
    "0351\n",
    " 1827\n",
    " 2694\n",
    " 3235\n",
    " 4912\n",
    " \n",
    " Your function should select the following rows: \n",
    " A B C\n",
    "\n",
    "1827\n",
    "\n",
    "4912\n",
    "\n",
    "The function should return a new DataFrame that contains only the selected rows.\n",
    "\n",
    "Answer(Q8):\n"
   ]
  },
  {
   "cell_type": "code",
   "execution_count": 14,
   "id": "0798e8a3-55ed-45ef-8f98-cfabde2e29ca",
   "metadata": {},
   "outputs": [
    {
     "data": {
      "text/html": [
       "<div>\n",
       "<style scoped>\n",
       "    .dataframe tbody tr th:only-of-type {\n",
       "        vertical-align: middle;\n",
       "    }\n",
       "\n",
       "    .dataframe tbody tr th {\n",
       "        vertical-align: top;\n",
       "    }\n",
       "\n",
       "    .dataframe thead th {\n",
       "        text-align: right;\n",
       "    }\n",
       "</style>\n",
       "<table border=\"1\" class=\"dataframe\">\n",
       "  <thead>\n",
       "    <tr style=\"text-align: right;\">\n",
       "      <th></th>\n",
       "      <th>A</th>\n",
       "      <th>B</th>\n",
       "      <th>C</th>\n",
       "    </tr>\n",
       "  </thead>\n",
       "  <tbody>\n",
       "    <tr>\n",
       "      <th>1</th>\n",
       "      <td>8</td>\n",
       "      <td>2</td>\n",
       "      <td>7</td>\n",
       "    </tr>\n",
       "    <tr>\n",
       "      <th>2</th>\n",
       "      <td>6</td>\n",
       "      <td>9</td>\n",
       "      <td>4</td>\n",
       "    </tr>\n",
       "    <tr>\n",
       "      <th>4</th>\n",
       "      <td>9</td>\n",
       "      <td>1</td>\n",
       "      <td>2</td>\n",
       "    </tr>\n",
       "  </tbody>\n",
       "</table>\n",
       "</div>"
      ],
      "text/plain": [
       "   A  B  C\n",
       "1  8  2  7\n",
       "2  6  9  4\n",
       "4  9  1  2"
      ]
     },
     "execution_count": 14,
     "metadata": {},
     "output_type": "execute_result"
    }
   ],
   "source": [
    "import pandas as pd\n",
    "\n",
    "values_list = [[3,5,1],[8,2,7],[6,9,4],[2,3,5],[9,1,2]]\n",
    "\n",
    "df1 = pd.DataFrame(values_list)\n",
    "df1.columns = ['A','B','C']\n",
    "# df1\n",
    "df2 = df1[(df1['A'] > 5 ) & (df1['B'] < 10 )]\n",
    "df2\n"
   ]
  },
  {
   "cell_type": "markdown",
   "id": "beedad66-fc20-4949-82db-caa7f72ec9f1",
   "metadata": {},
   "source": [
    "Q9. Given a Pandas DataFrame df with a column 'Values', write a Python function to calculate the mean, median, and standard deviation of the values in the 'Values' column.\n",
    "\n",
    "Answer(Q9):\n",
    "\n"
   ]
  },
  {
   "cell_type": "code",
   "execution_count": 15,
   "id": "fb8319c6-60b8-4079-ac59-b6ff0d62aa6e",
   "metadata": {},
   "outputs": [
    {
     "data": {
      "text/html": [
       "<div>\n",
       "<style scoped>\n",
       "    .dataframe tbody tr th:only-of-type {\n",
       "        vertical-align: middle;\n",
       "    }\n",
       "\n",
       "    .dataframe tbody tr th {\n",
       "        vertical-align: top;\n",
       "    }\n",
       "\n",
       "    .dataframe thead th {\n",
       "        text-align: right;\n",
       "    }\n",
       "</style>\n",
       "<table border=\"1\" class=\"dataframe\">\n",
       "  <thead>\n",
       "    <tr style=\"text-align: right;\">\n",
       "      <th></th>\n",
       "      <th>Values</th>\n",
       "    </tr>\n",
       "  </thead>\n",
       "  <tbody>\n",
       "    <tr>\n",
       "      <th>count</th>\n",
       "      <td>5.000000</td>\n",
       "    </tr>\n",
       "    <tr>\n",
       "      <th>mean</th>\n",
       "      <td>30.000000</td>\n",
       "    </tr>\n",
       "    <tr>\n",
       "      <th>std</th>\n",
       "      <td>15.811388</td>\n",
       "    </tr>\n",
       "    <tr>\n",
       "      <th>min</th>\n",
       "      <td>10.000000</td>\n",
       "    </tr>\n",
       "    <tr>\n",
       "      <th>25%</th>\n",
       "      <td>20.000000</td>\n",
       "    </tr>\n",
       "    <tr>\n",
       "      <th>50%</th>\n",
       "      <td>30.000000</td>\n",
       "    </tr>\n",
       "    <tr>\n",
       "      <th>75%</th>\n",
       "      <td>40.000000</td>\n",
       "    </tr>\n",
       "    <tr>\n",
       "      <th>max</th>\n",
       "      <td>50.000000</td>\n",
       "    </tr>\n",
       "  </tbody>\n",
       "</table>\n",
       "</div>"
      ],
      "text/plain": [
       "          Values\n",
       "count   5.000000\n",
       "mean   30.000000\n",
       "std    15.811388\n",
       "min    10.000000\n",
       "25%    20.000000\n",
       "50%    30.000000\n",
       "75%    40.000000\n",
       "max    50.000000"
      ]
     },
     "execution_count": 15,
     "metadata": {},
     "output_type": "execute_result"
    }
   ],
   "source": [
    "import pandas as pd\n",
    "\n",
    "list1 = [10, 20, 30, 40, 50]\n",
    "df1 = pd.DataFrame(list1)\n",
    "df1.columns = [\"Values\"]\n",
    "df1.describe()"
   ]
  },
  {
   "cell_type": "markdown",
   "id": "126980fa-d1c2-4b4b-9a29-8973497b84ad",
   "metadata": {},
   "source": [
    "Q10. Given a Pandas DataFrame df with a column 'Sales' and a column 'Date', write a Python function to create a new column 'MovingAverage' that contains the moving average of the sales for the past 7 days for each row in the DataFrame. The moving average should be calculated using a window of size 7 and should include the current day.\n",
    "\n",
    "Answer(Q10):"
   ]
  },
  {
   "cell_type": "code",
   "execution_count": 8,
   "id": "c2745636-8c3c-4e4e-93b1-1d4538c9d2f2",
   "metadata": {},
   "outputs": [
    {
     "data": {
      "text/html": [
       "<div>\n",
       "<style scoped>\n",
       "    .dataframe tbody tr th:only-of-type {\n",
       "        vertical-align: middle;\n",
       "    }\n",
       "\n",
       "    .dataframe tbody tr th {\n",
       "        vertical-align: top;\n",
       "    }\n",
       "\n",
       "    .dataframe thead th {\n",
       "        text-align: right;\n",
       "    }\n",
       "</style>\n",
       "<table border=\"1\" class=\"dataframe\">\n",
       "  <thead>\n",
       "    <tr style=\"text-align: right;\">\n",
       "      <th></th>\n",
       "      <th>Sales</th>\n",
       "      <th>Date</th>\n",
       "      <th>MovingAverage</th>\n",
       "    </tr>\n",
       "  </thead>\n",
       "  <tbody>\n",
       "    <tr>\n",
       "      <th>0</th>\n",
       "      <td>10</td>\n",
       "      <td>2023-06-22</td>\n",
       "      <td>NaN</td>\n",
       "    </tr>\n",
       "    <tr>\n",
       "      <th>1</th>\n",
       "      <td>20</td>\n",
       "      <td>2023-06-23</td>\n",
       "      <td>NaN</td>\n",
       "    </tr>\n",
       "    <tr>\n",
       "      <th>2</th>\n",
       "      <td>30</td>\n",
       "      <td>2023-06-24</td>\n",
       "      <td>NaN</td>\n",
       "    </tr>\n",
       "    <tr>\n",
       "      <th>3</th>\n",
       "      <td>40</td>\n",
       "      <td>2023-06-25</td>\n",
       "      <td>NaN</td>\n",
       "    </tr>\n",
       "    <tr>\n",
       "      <th>4</th>\n",
       "      <td>50</td>\n",
       "      <td>2023-06-26</td>\n",
       "      <td>NaN</td>\n",
       "    </tr>\n",
       "    <tr>\n",
       "      <th>5</th>\n",
       "      <td>5</td>\n",
       "      <td>2023-06-27</td>\n",
       "      <td>NaN</td>\n",
       "    </tr>\n",
       "    <tr>\n",
       "      <th>6</th>\n",
       "      <td>100</td>\n",
       "      <td>2023-06-28</td>\n",
       "      <td>36.428571</td>\n",
       "    </tr>\n",
       "    <tr>\n",
       "      <th>7</th>\n",
       "      <td>15</td>\n",
       "      <td>2023-06-29</td>\n",
       "      <td>37.142857</td>\n",
       "    </tr>\n",
       "    <tr>\n",
       "      <th>8</th>\n",
       "      <td>20</td>\n",
       "      <td>2023-06-30</td>\n",
       "      <td>37.142857</td>\n",
       "    </tr>\n",
       "    <tr>\n",
       "      <th>9</th>\n",
       "      <td>35</td>\n",
       "      <td>2023-07-01</td>\n",
       "      <td>37.857143</td>\n",
       "    </tr>\n",
       "    <tr>\n",
       "      <th>10</th>\n",
       "      <td>10</td>\n",
       "      <td>2023-07-02</td>\n",
       "      <td>33.571429</td>\n",
       "    </tr>\n",
       "    <tr>\n",
       "      <th>11</th>\n",
       "      <td>55</td>\n",
       "      <td>2023-07-03</td>\n",
       "      <td>34.285714</td>\n",
       "    </tr>\n",
       "    <tr>\n",
       "      <th>12</th>\n",
       "      <td>5</td>\n",
       "      <td>2023-07-04</td>\n",
       "      <td>34.285714</td>\n",
       "    </tr>\n",
       "    <tr>\n",
       "      <th>13</th>\n",
       "      <td>25</td>\n",
       "      <td>2023-07-05</td>\n",
       "      <td>23.571429</td>\n",
       "    </tr>\n",
       "  </tbody>\n",
       "</table>\n",
       "</div>"
      ],
      "text/plain": [
       "    Sales        Date  MovingAverage\n",
       "0      10  2023-06-22            NaN\n",
       "1      20  2023-06-23            NaN\n",
       "2      30  2023-06-24            NaN\n",
       "3      40  2023-06-25            NaN\n",
       "4      50  2023-06-26            NaN\n",
       "5       5  2023-06-27            NaN\n",
       "6     100  2023-06-28      36.428571\n",
       "7      15  2023-06-29      37.142857\n",
       "8      20  2023-06-30      37.142857\n",
       "9      35  2023-07-01      37.857143\n",
       "10     10  2023-07-02      33.571429\n",
       "11     55  2023-07-03      34.285714\n",
       "12      5  2023-07-04      34.285714\n",
       "13     25  2023-07-05      23.571429"
      ]
     },
     "execution_count": 8,
     "metadata": {},
     "output_type": "execute_result"
    }
   ],
   "source": [
    "import pandas as pd\n",
    "\n",
    "list1 = [[10,\"2023-06-22\" ],[20,\"2023-06-23\" ],[30,\"2023-06-24\"], [40,\"2023-06-25\"], [50,\"2023-06-26\"],[5 ,\"2023-06-27\"], [100,\"2023-06-28\"],\n",
    "        [15,\"2023-06-29\" ],[20,\"2023-06-30\" ],[35,\"2023-07-01\"], [10,\"2023-07-02\"], [55,\"2023-07-03\"],[5 ,\"2023-07-04\"], [25,\"2023-07-05\"]]\n",
    "df1 = pd.DataFrame(list1)\n",
    "df1.columns = [\"Sales\",\"Date\"]\n",
    "\n",
    "df1['MovingAverage'] = df1['Sales'].rolling(window=7).mean()\n",
    "df1"
   ]
  },
  {
   "cell_type": "markdown",
   "id": "2b805d84-b487-4d12-8231-416ce9d3bd13",
   "metadata": {},
   "source": [
    "Q11. You have a Pandas DataFrame df with a column 'Date'. Write a Python function that creates a new column 'Weekday' in the DataFrame. The 'Weekday' column should contain the weekday name (e.g. Monday, Tuesday) corresponding to each date in the 'Date' column.\n",
    "\n",
    "For example, if df contains the following values:\n",
    " Date\n",
    "\n",
    "0 2023-01-01\n",
    " 1 2023-01-02\n",
    " 2 2023-01-03\n",
    " 3 2023-01-04\n",
    " 4 2023-01-05\n",
    " Your function\n",
    "Date\n",
    "0 2023-01-01\n",
    "should create the following DataFrame:\n",
    "\n",
    "\n",
    "Weekday\n",
    " Sunday\n",
    " Monday\n",
    " Tuesday\n",
    " Wednesday\n",
    " Thursday\n",
    "\n",
    "1 2023-01-02\n",
    "2 2023-01-03\n",
    "3 2023-01-04\n",
    "4 2023-01-05\n",
    "The function should return the modified DataFrame.\n",
    "\n",
    "Answer(11):"
   ]
  },
  {
   "cell_type": "code",
   "execution_count": 11,
   "id": "b4220223-7c36-48cd-9dbe-cd2b7ed7dbe3",
   "metadata": {},
   "outputs": [
    {
     "name": "stdout",
     "output_type": "stream",
     "text": [
      "        date    Weekday\n",
      "0 2023-01-01     Sunday\n",
      "1 2023-01-02     Monday\n",
      "2 2023-01-03    Tuesday\n",
      "3 2023-01-04  Wednesday\n",
      "4 2023-01-05   Thursday\n"
     ]
    }
   ],
   "source": [
    "import pandas as pd\n",
    "\n",
    "dates = pd.date_range(start='2023-01-01', end='2023-01-07')\n",
    "df = pd.DataFrame({'date': dates})\n",
    "df['Weekday'] = df['date'].dt.dayofweek\n",
    "\n",
    "df['Weekday'] = df['Weekday'].map({\n",
    "    0: 'Monday',\n",
    "    1: 'Tuesday',\n",
    "    2: 'Wednesday',\n",
    "    3: 'Thursday',\n",
    "    4: 'Friday',\n",
    "    5: 'Saturday',\n",
    "    6: 'Sunday'\n",
    "})\n",
    "\n",
    "print(df.head())"
   ]
  },
  {
   "cell_type": "markdown",
   "id": "579ed815-7bae-49af-a844-5c5279fe8c1a",
   "metadata": {},
   "source": [
    "Q12. Given a Pandas DataFrame df with a column 'Date' that contains timestamps, write a Python function to select all rows where the date is between '2023-01-01' and '2023-01-31'.\n",
    "\n",
    "Answer(Q12):"
   ]
  },
  {
   "cell_type": "code",
   "execution_count": 16,
   "id": "14d3b283-633d-4a0d-9d64-3ca606627414",
   "metadata": {},
   "outputs": [
    {
     "data": {
      "text/html": [
       "<div>\n",
       "<style scoped>\n",
       "    .dataframe tbody tr th:only-of-type {\n",
       "        vertical-align: middle;\n",
       "    }\n",
       "\n",
       "    .dataframe tbody tr th {\n",
       "        vertical-align: top;\n",
       "    }\n",
       "\n",
       "    .dataframe thead th {\n",
       "        text-align: right;\n",
       "    }\n",
       "</style>\n",
       "<table border=\"1\" class=\"dataframe\">\n",
       "  <thead>\n",
       "    <tr style=\"text-align: right;\">\n",
       "      <th></th>\n",
       "      <th>Date</th>\n",
       "    </tr>\n",
       "  </thead>\n",
       "  <tbody>\n",
       "    <tr>\n",
       "      <th>0</th>\n",
       "      <td>2022-12-01 07:30:00</td>\n",
       "    </tr>\n",
       "    <tr>\n",
       "      <th>1</th>\n",
       "      <td>2022-12-02 07:30:00</td>\n",
       "    </tr>\n",
       "    <tr>\n",
       "      <th>2</th>\n",
       "      <td>2022-12-03 07:30:00</td>\n",
       "    </tr>\n",
       "    <tr>\n",
       "      <th>3</th>\n",
       "      <td>2022-12-04 07:30:00</td>\n",
       "    </tr>\n",
       "    <tr>\n",
       "      <th>4</th>\n",
       "      <td>2022-12-05 07:30:00</td>\n",
       "    </tr>\n",
       "    <tr>\n",
       "      <th>...</th>\n",
       "      <td>...</td>\n",
       "    </tr>\n",
       "    <tr>\n",
       "      <th>177</th>\n",
       "      <td>2023-05-27 07:30:00</td>\n",
       "    </tr>\n",
       "    <tr>\n",
       "      <th>178</th>\n",
       "      <td>2023-05-28 07:30:00</td>\n",
       "    </tr>\n",
       "    <tr>\n",
       "      <th>179</th>\n",
       "      <td>2023-05-29 07:30:00</td>\n",
       "    </tr>\n",
       "    <tr>\n",
       "      <th>180</th>\n",
       "      <td>2023-05-30 07:30:00</td>\n",
       "    </tr>\n",
       "    <tr>\n",
       "      <th>181</th>\n",
       "      <td>2023-05-31 07:30:00</td>\n",
       "    </tr>\n",
       "  </tbody>\n",
       "</table>\n",
       "<p>182 rows × 1 columns</p>\n",
       "</div>"
      ],
      "text/plain": [
       "                   Date\n",
       "0   2022-12-01 07:30:00\n",
       "1   2022-12-02 07:30:00\n",
       "2   2022-12-03 07:30:00\n",
       "3   2022-12-04 07:30:00\n",
       "4   2022-12-05 07:30:00\n",
       "..                  ...\n",
       "177 2023-05-27 07:30:00\n",
       "178 2023-05-28 07:30:00\n",
       "179 2023-05-29 07:30:00\n",
       "180 2023-05-30 07:30:00\n",
       "181 2023-05-31 07:30:00\n",
       "\n",
       "[182 rows x 1 columns]"
      ]
     },
     "execution_count": 16,
     "metadata": {},
     "output_type": "execute_result"
    }
   ],
   "source": [
    "import pandas as pd\n",
    "\n",
    "dates = pd.date_range(start='2022-12-01  07:30:00', end='2023-05-31  09:00:00')\n",
    "df = pd.DataFrame({'Date': dates})\n",
    "df"
   ]
  },
  {
   "cell_type": "code",
   "execution_count": 17,
   "id": "c10aeea2-ad14-4574-9e06-e175a6475da6",
   "metadata": {},
   "outputs": [
    {
     "data": {
      "text/html": [
       "<div>\n",
       "<style scoped>\n",
       "    .dataframe tbody tr th:only-of-type {\n",
       "        vertical-align: middle;\n",
       "    }\n",
       "\n",
       "    .dataframe tbody tr th {\n",
       "        vertical-align: top;\n",
       "    }\n",
       "\n",
       "    .dataframe thead th {\n",
       "        text-align: right;\n",
       "    }\n",
       "</style>\n",
       "<table border=\"1\" class=\"dataframe\">\n",
       "  <thead>\n",
       "    <tr style=\"text-align: right;\">\n",
       "      <th></th>\n",
       "      <th>Date</th>\n",
       "    </tr>\n",
       "  </thead>\n",
       "  <tbody>\n",
       "    <tr>\n",
       "      <th>31</th>\n",
       "      <td>2023-01-01 07:30:00</td>\n",
       "    </tr>\n",
       "    <tr>\n",
       "      <th>32</th>\n",
       "      <td>2023-01-02 07:30:00</td>\n",
       "    </tr>\n",
       "    <tr>\n",
       "      <th>33</th>\n",
       "      <td>2023-01-03 07:30:00</td>\n",
       "    </tr>\n",
       "    <tr>\n",
       "      <th>34</th>\n",
       "      <td>2023-01-04 07:30:00</td>\n",
       "    </tr>\n",
       "    <tr>\n",
       "      <th>35</th>\n",
       "      <td>2023-01-05 07:30:00</td>\n",
       "    </tr>\n",
       "    <tr>\n",
       "      <th>36</th>\n",
       "      <td>2023-01-06 07:30:00</td>\n",
       "    </tr>\n",
       "    <tr>\n",
       "      <th>37</th>\n",
       "      <td>2023-01-07 07:30:00</td>\n",
       "    </tr>\n",
       "    <tr>\n",
       "      <th>38</th>\n",
       "      <td>2023-01-08 07:30:00</td>\n",
       "    </tr>\n",
       "    <tr>\n",
       "      <th>39</th>\n",
       "      <td>2023-01-09 07:30:00</td>\n",
       "    </tr>\n",
       "    <tr>\n",
       "      <th>40</th>\n",
       "      <td>2023-01-10 07:30:00</td>\n",
       "    </tr>\n",
       "    <tr>\n",
       "      <th>41</th>\n",
       "      <td>2023-01-11 07:30:00</td>\n",
       "    </tr>\n",
       "    <tr>\n",
       "      <th>42</th>\n",
       "      <td>2023-01-12 07:30:00</td>\n",
       "    </tr>\n",
       "    <tr>\n",
       "      <th>43</th>\n",
       "      <td>2023-01-13 07:30:00</td>\n",
       "    </tr>\n",
       "    <tr>\n",
       "      <th>44</th>\n",
       "      <td>2023-01-14 07:30:00</td>\n",
       "    </tr>\n",
       "    <tr>\n",
       "      <th>45</th>\n",
       "      <td>2023-01-15 07:30:00</td>\n",
       "    </tr>\n",
       "    <tr>\n",
       "      <th>46</th>\n",
       "      <td>2023-01-16 07:30:00</td>\n",
       "    </tr>\n",
       "    <tr>\n",
       "      <th>47</th>\n",
       "      <td>2023-01-17 07:30:00</td>\n",
       "    </tr>\n",
       "    <tr>\n",
       "      <th>48</th>\n",
       "      <td>2023-01-18 07:30:00</td>\n",
       "    </tr>\n",
       "    <tr>\n",
       "      <th>49</th>\n",
       "      <td>2023-01-19 07:30:00</td>\n",
       "    </tr>\n",
       "    <tr>\n",
       "      <th>50</th>\n",
       "      <td>2023-01-20 07:30:00</td>\n",
       "    </tr>\n",
       "    <tr>\n",
       "      <th>51</th>\n",
       "      <td>2023-01-21 07:30:00</td>\n",
       "    </tr>\n",
       "    <tr>\n",
       "      <th>52</th>\n",
       "      <td>2023-01-22 07:30:00</td>\n",
       "    </tr>\n",
       "    <tr>\n",
       "      <th>53</th>\n",
       "      <td>2023-01-23 07:30:00</td>\n",
       "    </tr>\n",
       "    <tr>\n",
       "      <th>54</th>\n",
       "      <td>2023-01-24 07:30:00</td>\n",
       "    </tr>\n",
       "    <tr>\n",
       "      <th>55</th>\n",
       "      <td>2023-01-25 07:30:00</td>\n",
       "    </tr>\n",
       "    <tr>\n",
       "      <th>56</th>\n",
       "      <td>2023-01-26 07:30:00</td>\n",
       "    </tr>\n",
       "    <tr>\n",
       "      <th>57</th>\n",
       "      <td>2023-01-27 07:30:00</td>\n",
       "    </tr>\n",
       "    <tr>\n",
       "      <th>58</th>\n",
       "      <td>2023-01-28 07:30:00</td>\n",
       "    </tr>\n",
       "    <tr>\n",
       "      <th>59</th>\n",
       "      <td>2023-01-29 07:30:00</td>\n",
       "    </tr>\n",
       "    <tr>\n",
       "      <th>60</th>\n",
       "      <td>2023-01-30 07:30:00</td>\n",
       "    </tr>\n",
       "  </tbody>\n",
       "</table>\n",
       "</div>"
      ],
      "text/plain": [
       "                  Date\n",
       "31 2023-01-01 07:30:00\n",
       "32 2023-01-02 07:30:00\n",
       "33 2023-01-03 07:30:00\n",
       "34 2023-01-04 07:30:00\n",
       "35 2023-01-05 07:30:00\n",
       "36 2023-01-06 07:30:00\n",
       "37 2023-01-07 07:30:00\n",
       "38 2023-01-08 07:30:00\n",
       "39 2023-01-09 07:30:00\n",
       "40 2023-01-10 07:30:00\n",
       "41 2023-01-11 07:30:00\n",
       "42 2023-01-12 07:30:00\n",
       "43 2023-01-13 07:30:00\n",
       "44 2023-01-14 07:30:00\n",
       "45 2023-01-15 07:30:00\n",
       "46 2023-01-16 07:30:00\n",
       "47 2023-01-17 07:30:00\n",
       "48 2023-01-18 07:30:00\n",
       "49 2023-01-19 07:30:00\n",
       "50 2023-01-20 07:30:00\n",
       "51 2023-01-21 07:30:00\n",
       "52 2023-01-22 07:30:00\n",
       "53 2023-01-23 07:30:00\n",
       "54 2023-01-24 07:30:00\n",
       "55 2023-01-25 07:30:00\n",
       "56 2023-01-26 07:30:00\n",
       "57 2023-01-27 07:30:00\n",
       "58 2023-01-28 07:30:00\n",
       "59 2023-01-29 07:30:00\n",
       "60 2023-01-30 07:30:00"
      ]
     },
     "execution_count": 17,
     "metadata": {},
     "output_type": "execute_result"
    }
   ],
   "source": [
    "df[(df['Date'] >= '2023-01-01') & (df['Date'] <= '2023-01-31')]"
   ]
  },
  {
   "cell_type": "markdown",
   "id": "461080de-cf7e-433b-8c42-76e8b2292162",
   "metadata": {},
   "source": [
    "Q13. To use the basic functions of pandas, what is the first and foremost necessary library that needs to be imported?\n",
    "\n",
    "Answer(Q13):\n",
    "\n",
    "pandas and numpy libraries\n",
    "\n",
    "import pandas as pd\n",
    "import numpy as np\n",
    "\n",
    "Pandas module runs on top of NumPy and it is popularly used for data science and data analytics.\n"
   ]
  }
 ],
 "metadata": {
  "kernelspec": {
   "display_name": "Python 3 (ipykernel)",
   "language": "python",
   "name": "python3"
  },
  "language_info": {
   "codemirror_mode": {
    "name": "ipython",
    "version": 3
   },
   "file_extension": ".py",
   "mimetype": "text/x-python",
   "name": "python",
   "nbconvert_exporter": "python",
   "pygments_lexer": "ipython3",
   "version": "3.10.8"
  }
 },
 "nbformat": 4,
 "nbformat_minor": 5
}
