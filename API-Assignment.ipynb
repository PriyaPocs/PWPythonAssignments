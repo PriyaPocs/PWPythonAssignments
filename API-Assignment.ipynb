{
 "cells": [
  {
   "cell_type": "markdown",
   "id": "83b77fc9-98fe-4e43-bad1-7653c0686a58",
   "metadata": {},
   "source": [
    "Q1. What is an API? Give an example, where an API is used in real life.\n",
    "\n",
    "Answer(Q1):\n",
    "\n",
    "API:\n",
    "   API stands for Application Programmin g Interface.\n",
    "   \n",
    "   APIs are an accessible way to extract and share data within and across organizations. APIs are all around us. Every time we use bank  apps, send a mobile payment we're using an API to extract and share data.\n",
    "   "
   ]
  },
  {
   "cell_type": "markdown",
   "id": "4b8aafc6-d3db-4fa7-a78f-a317550aa48a",
   "metadata": {},
   "source": [
    "Q2. Give advantages and disadvantages of using API.\n",
    "\n",
    "Answer(Q2):\n",
    "\n",
    "Advantages:\n",
    "\n",
    "1.Improved Efficiency: \n",
    "        API driven infrastructures enable developers to reuse code and functionality from existing software systems, saving time and reducing the amount of code that needs to be written from scratch.\n",
    "        \n",
    "2.Increased Flexibility:\n",
    "        APIs provide developers with greater flexibility, enabling them to choose the best programming languages and frameworks for their needs. \n",
    "3.Increased Interoperability: \n",
    "        API solutions enable different software systems to communicate with each other, regardless of their programming language or platform. This enhances the interoperability between systems, allowing for the exchange of data and functionality.        \n",
    "        \n",
    "Disadvantages:\n",
    "\n",
    "1.Complexity:\n",
    "     APIs can be complex, requiring a significant amount of development effort to implement and maintain.\n",
    " \n",
    "2.Security Concerns: \n",
    "       API infrastructures can be vulnerable to security breaches, such as SQL injection attacks and cross-site scripting (XSS) attacks, making it crucial to implement security measures to protect against these threats. \n",
    " "
   ]
  },
  {
   "cell_type": "markdown",
   "id": "df8c7e49-ac0f-4523-ae0f-2e667dd1efc2",
   "metadata": {},
   "source": [
    "Q3. What is a Web API? Differentiate between API and Web API.\n",
    "\n",
    "Answer(Q3):\n",
    "\n",
    "Web API:\n",
    "\n",
    "Web API as the name suggests, is an API over the web which can be accessed using HTTP protocol.\n",
    "Web API is a System to System interaction, in which the data or information from one system can be accessed by another system, after the completion of execution the resultant data or we can say as output is shown to the viewer.\n",
    "\n",
    "\n",
    "Differentiate between API and Web API:\n",
    "\n",
    "\n",
    "API is an interface that exposes an application's data to outside software, whereas web applications are one type of API with stricter requirements. These requirements include network communication, SOAP as the primary protocol, and less accessibility for the public.\n",
    "    "
   ]
  },
  {
   "cell_type": "markdown",
   "id": "c7336845-b7d4-43a3-8c01-390f2f36c53c",
   "metadata": {},
   "source": [
    "Q4. Explain REST and SOAP Architecture. Mention shortcomings of SOAP.\n",
    "\n",
    "\n",
    "REST Architecture:\n",
    "\n",
    "\n",
    "1.Representational State Transfer,an architecture style for designing communication interfaces.\n",
    "\n",
    "2.REST API exposes the data.\n",
    "\n",
    "3.REST works only with HTTPS.\n",
    "\n",
    "4.REST supports XML, JSON, plain text, HTML.\n",
    "\n",
    "5.REST has faster performance due to smaller messages and caching support.\n",
    "\n",
    "6.REST is easy to scale. It’s stateless, so every message is processed independently of previous messages.\n",
    "\n",
    "7.REST supports encryption without affecting performance.\n",
    "\n",
    "8.REST is useful in modern applications and public APIs.\n",
    "\n",
    "SOAP Architecture:\n",
    "\n",
    "\n",
    "1.Simple Object Access Protocol,SOAP is a protocol for communication between applications\n",
    "\n",
    "2.SOAP API exposes the operation.\n",
    "\n",
    "3.SOAP is independent and can work with any transport protocol.\n",
    "\n",
    "4.SOAP supports only XML data exchange.\n",
    "\n",
    "5.SOAP messages are larger, which makes communication slower.\n",
    "\n",
    "6.SOAP is difficult to scale. The server maintains state by storing all previous messages exchanged with a client.\n",
    "\n",
    "7.SOAP supports encryption with additional overheads.\n",
    "\n",
    "8.SOAP is useful in legacy applications and private APIs.\n",
    "\n",
    "\n",
    "   "
   ]
  },
  {
   "cell_type": "markdown",
   "id": "751eaae1-b4cd-464c-a146-bdc0ae04eb46",
   "metadata": {},
   "source": [
    "Q5. Differentiate between REST and SOAP.\n",
    "\n",
    "1.REST API exposes the data where as SOAP API exposes the operation.\n",
    "\n",
    "2.REST works only with HTTPS where as SOAP is independent and can work with any transport protocol.\n",
    "\n",
    "3.REST supports XML, JSON, plain text, HTML where as SOAP supports only XML data exchange.\n",
    "\n",
    "4.REST has faster performance due to smaller messages and caching support where as SOAP messages are larger, which makes communication slower.\n",
    "\n",
    "5..REST is easy to scale. It’s stateless, so every message is processed independently of previous messages where as SOAP is difficult to scale. The server maintains state by storing all previous messages exchanged with a client.\n",
    "\n",
    "6.REST supports encryption without affecting performance where as SOAP supports encryption with additional overheads.\n",
    "\n",
    "7.REST is useful in modern applications and public APIs where as SOAP is useful in legacy applications and private APIs."
   ]
  }
 ],
 "metadata": {
  "kernelspec": {
   "display_name": "Python 3 (ipykernel)",
   "language": "python",
   "name": "python3"
  },
  "language_info": {
   "codemirror_mode": {
    "name": "ipython",
    "version": 3
   },
   "file_extension": ".py",
   "mimetype": "text/x-python",
   "name": "python",
   "nbconvert_exporter": "python",
   "pygments_lexer": "ipython3",
   "version": "3.10.8"
  }
 },
 "nbformat": 4,
 "nbformat_minor": 5
}
