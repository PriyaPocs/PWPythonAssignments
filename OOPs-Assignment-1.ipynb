{
 "cells": [
  {
   "cell_type": "markdown",
   "id": "e1a4728c-54bc-4d9d-86de-aab263eb9023",
   "metadata": {},
   "source": [
    "Q1. Explain Class and Object with respect to Object-Oriented Programming. Give a suitable example.\n"
   ]
  },
  {
   "cell_type": "markdown",
   "id": "faf0b40c-dc63-4263-a055-5bf42f5132df",
   "metadata": {},
   "source": [
    "Answer(Q1):\n",
    " \n",
    "A class is considered as a blueprint of objects. Where as An object is simply a collection of data (variables) and methods (functions). Similarly,\n",
    "\n",
    "a class is a blueprint for that object."
   ]
  },
  {
   "cell_type": "code",
   "execution_count": 3,
   "id": "70cdea2e-fd1c-4e95-8295-b21cf8fa0233",
   "metadata": {},
   "outputs": [
    {
     "name": "stdout",
     "output_type": "stream",
     "text": [
      "Bike  is Pulser, with 3 gear\n"
     ]
    }
   ],
   "source": [
    "# Eg.\n",
    "class Bike:\n",
    "   # constructor function    \n",
    "    def __init__(self, name = \"\",gear = 0):\n",
    "        self.name = name\n",
    "        self.gear = gear\n",
    "\n",
    "# create objects of class\n",
    "bike1 = Bike(\"Pulser\", 3)\n",
    "\n",
    "print(f\"Bike  is {bike1.name}, with {bike1.gear} gear\") \n",
    "\n",
    "# Bike is class, bike1 is Object"
   ]
  },
  {
   "cell_type": "markdown",
   "id": "729a163a-d01d-45a7-ab0e-d1e609bfec1b",
   "metadata": {},
   "source": [
    "Q2. Name the four pillars of OOPs.\n",
    "\n",
    "Answer(Q2):\n",
    "\n",
    "The four pillars of OOPs are:\n",
    "\n",
    "1.Abstraction\n",
    "\n",
    "2.Encapsulation\n",
    "\n",
    "3.Inheritance\n",
    "\n",
    "4.Polymorphism"
   ]
  },
  {
   "cell_type": "markdown",
   "id": "dd9c3ad7-63c0-4cf2-aa4c-c525db320079",
   "metadata": {},
   "source": [
    "Q3. Explain why the __init__() function is used. Give a suitable example.\n",
    "\n",
    "Answer(Q3):\n",
    "\n",
    "__init__() is used to initialize the values to the  attributes at the time of object creation.It's a constructor.\n"
   ]
  },
  {
   "cell_type": "code",
   "execution_count": 5,
   "id": "5676bf26-f470-4fa2-85ea-14ee2532b7ce",
   "metadata": {},
   "outputs": [
    {
     "name": "stdout",
     "output_type": "stream",
     "text": [
      "Student name is Rahul, studying in class 7\n"
     ]
    }
   ],
   "source": [
    "class Student:\n",
    "    def __init__(self, name, std):\n",
    "        self.name = name\n",
    "        self.std = std\n",
    "\n",
    "student1 = Student(\"Rahul\",7)\n",
    "print(f\"Student name is {student1.name}, studying in class {student1.std}\") "
   ]
  },
  {
   "cell_type": "markdown",
   "id": "394ea068-1467-483c-85f9-d62195a6d9c2",
   "metadata": {},
   "source": [
    "Q4. Why self is used in OOPs?\n",
    "\n",
    "Answer(Q4):\n",
    "\n",
    "self is used in OOPs as it takes the reference of the current object of the class."
   ]
  },
  {
   "cell_type": "code",
   "execution_count": 6,
   "id": "d495e7e6-85d9-455c-8207-846147d2db78",
   "metadata": {},
   "outputs": [
    {
     "name": "stdout",
     "output_type": "stream",
     "text": [
      "Student name is Rahul, studying in class 7\n"
     ]
    }
   ],
   "source": [
    "# Here, in this example below, self takes the reference of the created object student1.\n",
    "class Student:\n",
    "    def __init__(self, name, std): \n",
    "        self.name = name\n",
    "        self.std = std\n",
    "student1 = Student(\"Rahul\",7)\n",
    "print(f\"Student name is {student1.name}, studying in class {student1.std}\") \n"
   ]
  },
  {
   "cell_type": "markdown",
   "id": "fdd08da2-90ad-40eb-bd95-080740417b45",
   "metadata": {},
   "source": [
    "Q5. What is inheritance? Give an example for each type of inheritance.\n",
    "\n",
    "Inheritance:\n",
    "\n",
    "Inheritance is defined as the mechanism of inheriting the properties of the base class to the child class.\n",
    "\n",
    "There are four types of inheritance in Python:\n",
    "\n",
    "1.Single Inheritance:\n",
    "\n",
    "   Single inheritance enables a derived class to inherit properties from a single parent class, thus enabling code reusability and the addition of\n",
    "   \n",
    "new features to existing code.\n",
    "\n",
    "2.Multiple Inheritance: \n",
    "\n",
    "   When a class can be derived from more than one base class this type of inheritance is called multiple inheritances. In multiple inheritances,\n",
    "   \n",
    "all the features of the base classes are inherited into the derived class. \n",
    "\n",
    "3.Multilevel Inheritance :\n",
    "\n",
    "   In multilevel inheritance, features of the base class and the derived class are further inherited into the new derived class. This is \n",
    "       \n",
    "similar to a relationship representing a child and a grandfather. \n",
    "\n",
    "4.Hierarchical Inheritance: \n",
    "\n",
    "   When more than one derived class are created from a single base this type of inheritance is called hierarchical inheritance. In this program, we \n",
    "\n",
    "have a parent (base) class and two child (derived) classes.\n"
   ]
  },
  {
   "cell_type": "code",
   "execution_count": 7,
   "id": "ee731843-f3f8-417e-95fa-d94c2a24564e",
   "metadata": {},
   "outputs": [
    {
     "name": "stdout",
     "output_type": "stream",
     "text": [
      "This function is in parent class.\n",
      "This function is in child class.\n"
     ]
    }
   ],
   "source": [
    "# single inheritance\n",
    "\n",
    "# Base class\n",
    "class Parent:\n",
    "\tdef func1(self):\n",
    "\t\tprint(\"This function is in parent class.\")\n",
    "\n",
    "# Derived class\n",
    "\n",
    "\n",
    "class Child(Parent):\n",
    "\tdef func2(self):\n",
    "\t\tprint(\"This function is in child class.\")\n",
    "\n",
    "\n",
    "# Driver's code\n",
    "object = Child()\n",
    "object.func1()\n",
    "object.func2()\n"
   ]
  },
  {
   "cell_type": "code",
   "execution_count": 8,
   "id": "ac0eab1c-8ad8-48ce-85dc-d8b323c39867",
   "metadata": {},
   "outputs": [
    {
     "name": "stdout",
     "output_type": "stream",
     "text": [
      "Father : RAM\n",
      "Mother : SITA\n"
     ]
    }
   ],
   "source": [
    "# multiple inheritance\n",
    "\n",
    "# Base class1\n",
    "class Mother:\n",
    "\tmothername = \"\"\n",
    "\n",
    "\tdef mother(self):\n",
    "\t\tprint(self.mothername)\n",
    "\n",
    "# Base class2\n",
    "\n",
    "\n",
    "class Father:\n",
    "\tfathername = \"\"\n",
    "\n",
    "\tdef father(self):\n",
    "\t\tprint(self.fathername)\n",
    "\n",
    "# Derived class\n",
    "\n",
    "\n",
    "class Son(Mother, Father):\n",
    "\tdef parents(self):\n",
    "\t\tprint(\"Father :\", self.fathername)\n",
    "\t\tprint(\"Mother :\", self.mothername)\n",
    "\n",
    "\n",
    "# Driver's code\n",
    "s1 = Son()\n",
    "s1.fathername = \"RAM\"\n",
    "s1.mothername = \"SITA\"\n",
    "s1.parents()\n"
   ]
  },
  {
   "cell_type": "code",
   "execution_count": 9,
   "id": "c16579c5-df69-4002-acb6-99db051e7e28",
   "metadata": {},
   "outputs": [
    {
     "name": "stdout",
     "output_type": "stream",
     "text": [
      "Lal mani\n",
      "Grandfather name : Lal mani\n",
      "Father name : Rampal\n",
      "Son name : Prince\n"
     ]
    }
   ],
   "source": [
    "# multilevel inheritance\n",
    "\n",
    "# Base class\n",
    "\n",
    "\n",
    "class Grandfather:\n",
    "\n",
    "\tdef __init__(self, grandfathername):\n",
    "\t\tself.grandfathername = grandfathername\n",
    "        \n",
    "\n",
    "# Intermediate class\n",
    "class Father(Grandfather):\n",
    "\tdef __init__(self, fathername, grandfathername):\n",
    "\t\tself.fathername = fathername\n",
    "\n",
    "\t\t# invoking constructor of Grandfather class\n",
    "\t\tGrandfather.__init__(self, grandfathername)\n",
    "        \n",
    "        \n",
    "\n",
    "# Derived class\n",
    "class Son(Father):\n",
    "\tdef __init__(self, sonname, fathername, grandfathername):\n",
    "\t\tself.sonname = sonname\n",
    "\n",
    "\t\t# invoking constructor of Father class\n",
    "\t\tFather.__init__(self, fathername, grandfathername)\n",
    "\n",
    "\tdef print_name(self):\n",
    "\t\tprint('Grandfather name :', self.grandfathername)\n",
    "\t\tprint(\"Father name :\", self.fathername)\n",
    "\t\tprint(\"Son name :\", self.sonname)\n",
    "\n",
    "\n",
    "# Driver code\n",
    "s1 = Son('Prince', 'Rampal', 'Lal mani')\n",
    "print(s1.grandfathername)\n",
    "s1.print_name()\n"
   ]
  },
  {
   "cell_type": "code",
   "execution_count": 10,
   "id": "8707ca35-2cca-4dcb-987c-276e10618301",
   "metadata": {},
   "outputs": [
    {
     "name": "stdout",
     "output_type": "stream",
     "text": [
      "This function is in parent class.\n",
      "This function is in child 1.\n",
      "This function is in parent class.\n",
      "This function is in child 2.\n"
     ]
    }
   ],
   "source": [
    "# Hierarchical inheritance\n",
    "\n",
    "# Base class\n",
    "class Parent:\n",
    "\tdef func1(self):\n",
    "\t\tprint(\"This function is in parent class.\")\n",
    "        \n",
    "\n",
    "# Derived class1\n",
    "class Child1(Parent):\n",
    "\tdef func2(self):\n",
    "\t\tprint(\"This function is in child 1.\")\n",
    "        \n",
    "\n",
    "# Derivied class2\n",
    "class Child2(Parent):\n",
    "\tdef func3(self):\n",
    "\t\tprint(\"This function is in child 2.\")\n",
    "\n",
    "\n",
    "# Driver's code\n",
    "object1 = Child1()\n",
    "object2 = Child2()\n",
    "object1.func1()\n",
    "object1.func2()\n",
    "object2.func1()\n",
    "object2.func3()\n"
   ]
  }
 ],
 "metadata": {
  "kernelspec": {
   "display_name": "Python 3 (ipykernel)",
   "language": "python",
   "name": "python3"
  },
  "language_info": {
   "codemirror_mode": {
    "name": "ipython",
    "version": 3
   },
   "file_extension": ".py",
   "mimetype": "text/x-python",
   "name": "python",
   "nbconvert_exporter": "python",
   "pygments_lexer": "ipython3",
   "version": "3.10.8"
  }
 },
 "nbformat": 4,
 "nbformat_minor": 5
}
