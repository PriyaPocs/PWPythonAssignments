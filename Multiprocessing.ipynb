{
 "cells": [
  {
   "cell_type": "markdown",
   "id": "c17361e7-c47a-4a92-be81-2f1199d24227",
   "metadata": {},
   "source": [
    "Q1. What is multiprocessing in python? Why is it useful? \n",
    "\n",
    "Answer(Q1):\n",
    "\n",
    "Multiprocessing in Python is a built-in package that allows the system to run multiple processes simultaneously. It will enable\n",
    "\n",
    "the breaking of applications into smaller threads that can run independently."
   ]
  },
  {
   "cell_type": "markdown",
   "id": "d233aaf0-3d33-4084-ad43-22155b54e9ad",
   "metadata": {},
   "source": [
    "Q2. What are the differences between multiprocessing and multithreading?\n",
    "\n",
    "Answer(Q2):\n",
    "\n",
    "Multiprocessing uses two or more CPUs to increase computing power, whereas multithreading uses a single process with multiple\n",
    "\n",
    "code segments to increase computing power. Multithreading focuses on generating computing threads from a single process,\n",
    "\n",
    "whereas multiprocessing increases computing power by adding CPUs.\n"
   ]
  },
  {
   "cell_type": "markdown",
   "id": "0b383ed0-1ea7-41d4-a302-f9fbdab9502d",
   "metadata": {},
   "source": [
    "Q3. Write a python code to create a process using the multiprocessing module.\n",
    "\n",
    "Answer(Q3):\n"
   ]
  },
  {
   "cell_type": "code",
   "execution_count": 8,
   "id": "d97f83ef-0aa7-40df-aab5-c680cc638daf",
   "metadata": {},
   "outputs": [
    {
     "name": "stdout",
     "output_type": "stream",
     "text": [
      "this is my main prod\n",
      "this is my multiprocessing prog\n"
     ]
    }
   ],
   "source": [
    "import multiprocessing\n",
    "\n",
    "def test():\n",
    "    print(\"this is my multiprocessing prog\")\n",
    "\n",
    "if __name__ == \"__main__\":\n",
    "    m = multiprocessing.Process(target=test)\n",
    "    print(\"this is my main prod\")\n",
    "    m.start()\n",
    "    m.join()"
   ]
  },
  {
   "cell_type": "markdown",
   "id": "c4bfb1ee-9b90-4ceb-8d5e-ab8614413319",
   "metadata": {},
   "source": [
    "Q4. What is a multiprocessing pool in python? Why is it used?\n",
    "\n",
    "Answer(Q4):\n",
    "\n",
    "Python multiprocessing Pool can be used for parallel execution of a function across multiple input values, distributing the \n",
    "\n",
    "input data across processes (data parallelism).\n"
   ]
  },
  {
   "cell_type": "markdown",
   "id": "640e44ef-3e4b-4b5f-b2d6-787ac8dc029c",
   "metadata": {},
   "source": [
    "Q5. How can we create a pool of worker processes in python using the multiprocessing module?\n",
    "\n",
    "Answer(Q5):"
   ]
  },
  {
   "cell_type": "code",
   "execution_count": 5,
   "id": "b6a0cec8-65d1-4427-a28b-1f19c328f28c",
   "metadata": {},
   "outputs": [
    {
     "name": "stdout",
     "output_type": "stream",
     "text": [
      "[9, 16, 25, 36, 36, 49, 7569, 64, 64]\n"
     ]
    }
   ],
   "source": [
    "def cube(n):\n",
    "    return n**2\n",
    "if __name__ == '__main__':\n",
    "    with multiprocessing.Pool(processes=5) as pool :\n",
    "        out =pool.map(cube , [3,4,5,6,6,7,87,8,8])\n",
    "        print(out)"
   ]
  },
  {
   "cell_type": "markdown",
   "id": "d2be2bfa-b422-4886-81c0-a4347dbe67c6",
   "metadata": {},
   "source": [
    "Q6. Write a python program to create 4 processes, each process should print a different number using the\n",
    "\n",
    "multiprocessing module in python."
   ]
  },
  {
   "cell_type": "code",
   "execution_count": 7,
   "id": "f86b2dae-5089-4d1f-8a62-c6d3ac2d1194",
   "metadata": {},
   "outputs": [
    {
     "name": "stdout",
     "output_type": "stream",
     "text": [
      "2\n",
      "3\n",
      "6\n",
      "7\n"
     ]
    }
   ],
   "source": [
    "import multiprocessing\n",
    "\n",
    "def print_value(index , value ):\n",
    "    print(value[index])\n",
    "    \n",
    "if __name__ == '__main__':\n",
    "    arr = multiprocessing.Array('i', [2,3,6,7,8,8,9,3,3,3])\n",
    "    process = []\n",
    "    for i in range(4) : \n",
    "        m = multiprocessing.Process(target=print_value , args = (i ,arr ))\n",
    "        process.append(m)\n",
    "        m.start()\n",
    "    for m in process:\n",
    "        m.join()\n"
   ]
  }
 ],
 "metadata": {
  "kernelspec": {
   "display_name": "Python 3 (ipykernel)",
   "language": "python",
   "name": "python3"
  },
  "language_info": {
   "codemirror_mode": {
    "name": "ipython",
    "version": 3
   },
   "file_extension": ".py",
   "mimetype": "text/x-python",
   "name": "python",
   "nbconvert_exporter": "python",
   "pygments_lexer": "ipython3",
   "version": "3.10.8"
  }
 },
 "nbformat": 4,
 "nbformat_minor": 5
}
