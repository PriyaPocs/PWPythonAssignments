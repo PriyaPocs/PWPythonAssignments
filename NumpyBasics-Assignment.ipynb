{
 "cells": [
  {
   "cell_type": "markdown",
   "id": "eb700600-782c-4f94-8b93-258b3dd1ca59",
   "metadata": {},
   "source": [
    "Consider the below code to answer further questions:\n",
    "\n",
    "\n",
    "import numpy as np\n",
    "\n",
    "list_ = [ ‘1’ , ’2’ , ‘3’ , ‘4’ , ‘5’ ]\n",
    "\n",
    "array_list = np.array(object = list_)\n",
    "Q1. Is there any difference in the data type of variables list_ and array_list? If there is then write a code\n",
    "to print the data types of both the variables.\n",
    "\n",
    "Answer(Q1):\n",
    "\n",
    "yes.There is difference in the data type of variables list_ and array_list.\n",
    "\n",
    "list has str datatype elements, where as array_list has numpy.ndarray datatype elements"
   ]
  },
  {
   "cell_type": "code",
   "execution_count": 5,
   "id": "5055dfe0-f2c7-4317-aa6c-89864eb54b96",
   "metadata": {},
   "outputs": [
    {
     "name": "stdout",
     "output_type": "stream",
     "text": [
      "data type of list_  <class 'list'>\n",
      "data type of array_list  <class 'numpy.ndarray'>\n"
     ]
    }
   ],
   "source": [
    "import numpy as np\n",
    "\n",
    "list_ = [ '1' , '2' , '3' , '4' , '5' ]\n",
    "\n",
    "array_list = np.array(object = list_)\n",
    "\n",
    "print('data type of list_ ',type(list_))\n",
    "print('data type of array_list ',type(array_list))     "
   ]
  },
  {
   "cell_type": "markdown",
   "id": "c66cd43d-2cb0-4eeb-aa16-f3957dcc25d4",
   "metadata": {},
   "source": [
    "Q2. Write a code to print the data type of each and every element of both the variables list_ and\n",
    "array_list.\n",
    "\n",
    "Answer(Q2):"
   ]
  },
  {
   "cell_type": "code",
   "execution_count": 10,
   "id": "11bde184-79bb-4f97-b188-fae25a1f479b",
   "metadata": {},
   "outputs": [
    {
     "name": "stdout",
     "output_type": "stream",
     "text": [
      "<class 'str'>\n",
      "<class 'str'>\n",
      "<class 'str'>\n",
      "<class 'str'>\n",
      "<class 'str'>\n",
      "<class 'numpy.str_'>\n",
      "<class 'numpy.str_'>\n",
      "<class 'numpy.str_'>\n",
      "<class 'numpy.str_'>\n",
      "<class 'numpy.str_'>\n"
     ]
    }
   ],
   "source": [
    "for i in list_:\n",
    "    print(type(i))\n",
    "for j in array_list:\n",
    "    print(type(j))    "
   ]
  },
  {
   "cell_type": "markdown",
   "id": "647d7ab4-eafb-4017-aff6-19fb13b44fc6",
   "metadata": {},
   "source": [
    "Q3. Considering the following changes in the variable, array_list:\n",
    "\n",
    "array_list = np.array(object = list_, dtype = int)\n",
    "\n",
    "Will there be any difference in the data type of the elements present in both the variables, list_ and\n",
    "arra_list? If so then print the data types of each and every element present in both the variables, list_\n",
    "and arra_list.\n",
    "\n",
    "Answer(Q3):\n",
    "\n",
    "Yes.yes.There is difference in the data type of variables list_ and array_list. \n",
    "\n",
    "list has str datatype elements, where as array_list has numpy.int64 datatype elements\n"
   ]
  },
  {
   "cell_type": "code",
   "execution_count": 12,
   "id": "ff4bb5b0-9cd6-40d8-86c8-527e95ce79d6",
   "metadata": {},
   "outputs": [
    {
     "name": "stdout",
     "output_type": "stream",
     "text": [
      "<class 'str'>\n",
      "<class 'str'>\n",
      "<class 'str'>\n",
      "<class 'str'>\n",
      "<class 'str'>\n",
      "<class 'numpy.int64'>\n",
      "<class 'numpy.int64'>\n",
      "<class 'numpy.int64'>\n",
      "<class 'numpy.int64'>\n",
      "<class 'numpy.int64'>\n"
     ]
    }
   ],
   "source": [
    "array_list = np.array(object = list_, dtype = int)\n",
    "for i in list_:\n",
    "    print(type(i))\n",
    "for j in array_list:\n",
    "    print(type(j))    "
   ]
  },
  {
   "cell_type": "markdown",
   "id": "51d93ae5-9b88-4e27-a5e8-e104a1087e9e",
   "metadata": {},
   "source": [
    "Consider the below code to answer further questions:\n",
    "\n",
    "import numpy as np\n",
    "\n",
    "num_list = [ [ 1 , 2 , 3 ] , [ 4 , 5 , 6 ] ]\n",
    "\n",
    "num_array = np.array(object = num_list)\n",
    "\n",
    "Q4. Write a code to find the following characteristics of variable, num_array:\n",
    "\n",
    "(i)\t shape\n",
    "\n",
    "(ii) size"
   ]
  },
  {
   "cell_type": "code",
   "execution_count": 30,
   "id": "8ab0187f-f586-4b16-b601-ec7bd9b132bd",
   "metadata": {},
   "outputs": [
    {
     "name": "stdout",
     "output_type": "stream",
     "text": [
      " Shape of num_list after converting to np array  (2, 3)\n",
      " Shape of num_array is  (2, 3)\n",
      " Size of num_list is  6\n",
      " Size of num_array is  6\n"
     ]
    }
   ],
   "source": [
    "import numpy as np\n",
    "from functools import reduce \n",
    "\n",
    "\n",
    "num_list = [ [ 1 , 2 , 3 ] , [ 4 , 5 , 6 ] ]\n",
    "\n",
    "num_array = np.array(object = num_list)\n",
    "# The shape of a list will be obtained using a module NumPy.\n",
    "print(' Shape of num_list after converting to np array ',np.asarray(num_list).shape)\n",
    "print(' Shape of num_array is ',num_array.shape)\n",
    "\n",
    "print(' Size of num_list is ',reduce(lambda count, l: count + len(l), num_list, 0))\n",
    "print(' Size of num_array is ',num_array.size)"
   ]
  },
  {
   "cell_type": "markdown",
   "id": "1874cab6-d8ba-4d25-9bc6-378d782270b1",
   "metadata": {},
   "source": [
    "Q5. Write a code to create numpy array of 3*3 matrix containing zeros only, using a numpy array\n",
    "creation function.\n",
    "\n",
    "[Hint: The size of the array will be 9 and the shape will be (3,3).]\n",
    "\n",
    "Answer(Q5):\n"
   ]
  },
  {
   "cell_type": "code",
   "execution_count": 29,
   "id": "77d892b6-ecf2-4c4e-99d8-225dd28ff9cb",
   "metadata": {},
   "outputs": [
    {
     "data": {
      "text/plain": [
       "array([[0, 0, 0],\n",
       "       [0, 0, 0],\n",
       "       [0, 0, 0]])"
      ]
     },
     "execution_count": 29,
     "metadata": {},
     "output_type": "execute_result"
    }
   ],
   "source": [
    "arr = np.zeros((3,3),dtype=\"int\")\n",
    "arr"
   ]
  },
  {
   "cell_type": "markdown",
   "id": "1d53784b-1788-4521-9896-da73e2dab42d",
   "metadata": {},
   "source": [
    "Q6. Create an identity matrix of shape (5,5) using numpy functions?\n",
    "\n",
    "[Hint: An identity matrix is a matrix containing 1 diagonally and other elements will be 0.]\n",
    "\n",
    "Answer(Q6):\n"
   ]
  },
  {
   "cell_type": "code",
   "execution_count": 28,
   "id": "997abfc9-41fa-48e3-95f0-015d4a0ff1cf",
   "metadata": {},
   "outputs": [
    {
     "name": "stdout",
     "output_type": "stream",
     "text": [
      "[[1 0 0 0 0]\n",
      " [0 1 0 0 0]\n",
      " [0 0 1 0 0]\n",
      " [0 0 0 1 0]\n",
      " [0 0 0 0 1]]\n"
     ]
    },
    {
     "data": {
      "text/plain": [
       "numpy.ndarray"
      ]
     },
     "execution_count": 28,
     "metadata": {},
     "output_type": "execute_result"
    }
   ],
   "source": [
    "m1 = np.identity(5,dtype=\"int\")\n",
    "print(m1)\n",
    "type(m1)"
   ]
  }
 ],
 "metadata": {
  "kernelspec": {
   "display_name": "Python 3 (ipykernel)",
   "language": "python",
   "name": "python3"
  },
  "language_info": {
   "codemirror_mode": {
    "name": "ipython",
    "version": 3
   },
   "file_extension": ".py",
   "mimetype": "text/x-python",
   "name": "python",
   "nbconvert_exporter": "python",
   "pygments_lexer": "ipython3",
   "version": "3.10.8"
  }
 },
 "nbformat": 4,
 "nbformat_minor": 5
}
